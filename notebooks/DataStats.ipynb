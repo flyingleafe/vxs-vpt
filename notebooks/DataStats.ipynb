{
 "cells": [
  {
   "cell_type": "code",
   "execution_count": 22,
   "metadata": {},
   "outputs": [
    {
     "name": "stdout",
     "output_type": "stream",
     "text": [
      "The autoreload extension is already loaded. To reload it, use:\n",
      "  %reload_ext autoreload\n"
     ]
    }
   ],
   "source": [
    "%matplotlib inline\n",
    "%load_ext autoreload\n",
    "%autoreload 2\n",
    "\n",
    "import numpy as np\n",
    "import matplotlib.pyplot as plt\n",
    "import pandas as pd\n",
    "import glob\n",
    "\n",
    "from tqdm import tqdm\n",
    "from pathlib import PurePath\n",
    "\n",
    "import vxs"
   ]
  },
  {
   "cell_type": "markdown",
   "metadata": {},
   "source": [
    "## Durations of samples in autoencoder training data"
   ]
  },
  {
   "cell_type": "code",
   "execution_count": 13,
   "metadata": {},
   "outputs": [
    {
     "name": "stdout",
     "output_type": "stream",
     "text": [
      "vocal sketch: 4429 samples\n",
      "200 drum machines: 6749 samples\n"
     ]
    }
   ],
   "source": [
    "vocal_sketch_dataset = vxs.SampleSet(glob.glob(\n",
    "    '../data/vocal-sketch/interactiveaudiolab-VocalSketchDataSet-6c9f381/vocal_imitations/included/*.wav'), wave_only=True)\n",
    "drum_machines_dataset = vxs.SampleSet(glob.glob('../data/200-drum-machines/drums/*/*.wav'), wave_only=True)\n",
    "print(f'vocal sketch: {len(vocal_sketch_dataset)} samples')\n",
    "print(f'200 drum machines: {len(drum_machines_dataset)} samples')"
   ]
  },
  {
   "cell_type": "code",
   "execution_count": 7,
   "metadata": {},
   "outputs": [],
   "source": [
    "def fetch_durations(dataset):\n",
    "    durations = []\n",
    "    for i in tqdm(range(len(dataset))):\n",
    "        track = dataset[i]\n",
    "        durations.append(track.duration*1000)\n",
    "    return np.array(durations)"
   ]
  },
  {
   "cell_type": "code",
   "execution_count": 8,
   "metadata": {},
   "outputs": [
    {
     "name": "stderr",
     "output_type": "stream",
     "text": [
      "100%|██████████| 4429/4429 [00:01<00:00, 2306.67it/s]\n"
     ]
    }
   ],
   "source": [
    "vocal_durations = fetch_durations(vocal_sketch_dataset)"
   ]
  },
  {
   "cell_type": "code",
   "execution_count": 9,
   "metadata": {},
   "outputs": [
    {
     "data": {
      "image/png": "[encoded data removed]",
      "text/plain": [
       "<Figure size 432x288 with 1 Axes>"
      ]
     },
     "metadata": {
      "needs_background": "light"
     },
     "output_type": "display_data"
    }
   ],
   "source": [
    "plt.hist(vocal_durations, bins=int(vocal_durations.max() - vocal_durations.min()))\n",
    "plt.show()"
   ]
  },
  {
   "cell_type": "code",
   "execution_count": 10,
   "metadata": {},
   "outputs": [
    {
     "data": {
      "image/png": "[encoded data removed]",
      "text/plain": [
       "<Figure size 432x288 with 1 Axes>"
      ]
     },
     "metadata": {
      "needs_background": "light"
     },
     "output_type": "display_data"
    }
   ],
   "source": [
    "plt.hist(vocal_durations, bins=100, range=(0, 100))\n",
    "plt.show()"
   ]
  },
  {
   "cell_type": "code",
   "execution_count": 14,
   "metadata": {},
   "outputs": [
    {
     "name": "stderr",
     "output_type": "stream",
     "text": [
      "100%|██████████| 6749/6749 [00:18<00:00, 373.21it/s] \n"
     ]
    }
   ],
   "source": [
    "drum_durations = fetch_durations(drum_machines_dataset)"
   ]
  },
  {
   "cell_type": "code",
   "execution_count": 15,
   "metadata": {},
   "outputs": [
    {
     "data": {
      "image/png": "[encoded data removed]",
      "text/plain": [
       "<Figure size 432x288 with 1 Axes>"
      ]
     },
     "metadata": {
      "needs_background": "light"
     },
     "output_type": "display_data"
    }
   ],
   "source": [
    "plt.hist(drum_durations, bins=int(drum_durations.max() - drum_durations.min()))\n",
    "plt.show()"
   ]
  },
  {
   "cell_type": "code",
   "execution_count": 16,
   "metadata": {},
   "outputs": [
    {
     "data": {
      "image/png": "[encoded data removed]",
      "text/plain": [
       "<Figure size 432x288 with 1 Axes>"
      ]
     },
     "metadata": {
      "needs_background": "light"
     },
     "output_type": "display_data"
    }
   ],
   "source": [
    "plt.hist(drum_durations, range=(3000, 40000), bins=1000)\n",
    "plt.show()"
   ]
  },
  {
   "cell_type": "markdown",
   "metadata": {},
   "source": [
    "## AVP Dataset segments durations stats\n",
    "\n",
    "The following code has been used for determining inaccurate ground truth onsets in AVP Dataset"
   ]
  },
  {
   "cell_type": "code",
   "execution_count": 17,
   "metadata": {},
   "outputs": [],
   "source": [
    "avp_set_fixed = vxs.AVPTrackSet('../data/avp-dataset/AVP_Dataset/', subset='Fixed')\n",
    "avp_set_personal = vxs.AVPTrackSet('../data/avp-dataset/AVP_Dataset', subset='Personal')\n",
    "fixed_segments = vxs.SegmentSet(avp_set_fixed, frame_window=None)\n",
    "personal_segments = vxs.SegmentSet(avp_set_personal, frame_window=None)"
   ]
  },
  {
   "cell_type": "code",
   "execution_count": 18,
   "metadata": {},
   "outputs": [],
   "source": [
    "def min_max_segm_lens(segments):\n",
    "    min_segm_lens = dict((cl, 100000) for cl in ['kd', 'sd', 'hhc', 'hho'])\n",
    "    for segm, cl in segments:\n",
    "        min_segm_lens[cl] = min(min_segm_lens[cl], segm.n_samples)\n",
    "    \n",
    "    max_segm_lens = dict((cl, 0) for cl in ['kd', 'sd', 'hhc', 'hho'])\n",
    "    for segm, cl in fixed_segments:\n",
    "        max_segm_lens[cl] = max(max_segm_lens[cl], segm.n_samples)\n",
    "        \n",
    "    return min_segm_lens, max_segm_lens\n",
    "\n",
    "def diff_table(ds):\n",
    "    df = pd.DataFrame(columns=['track', 'min_diff', 'max_diff', 'duration'])\n",
    "    for track, anno in ds.annotated_tracks():\n",
    "        times = np.concatenate((anno['time'].values, [track.duration]))\n",
    "        diffs = times[1:] - times[:-1]\n",
    "        t_name = PurePath(track.filepath).stem \n",
    "        df.loc[len(df)] = [t_name, diffs.min(), diffs.max(), track.duration]\n",
    "    return df"
   ]
  },
  {
   "cell_type": "code",
   "execution_count": 19,
   "metadata": {},
   "outputs": [
    {
     "data": {
      "text/plain": [
       "({'kd': 3839, 'sd': 4287, 'hhc': 1400, 'hho': 2169},\n",
       " {'kd': 579120, 'sd': 581744, 'hhc': 628327, 'hho': 580672})"
      ]
     },
     "execution_count": 19,
     "metadata": {},
     "output_type": "execute_result"
    }
   ],
   "source": [
    "min_max_segm_lens(fixed_segments)"
   ]
  },
  {
   "cell_type": "code",
   "execution_count": 20,
   "metadata": {},
   "outputs": [
    {
     "data": {
      "text/plain": [
       "({'kd': 3695, 'sd': 3823, 'hhc': 3615, 'hho': 3071},\n",
       " {'kd': 579120, 'sd': 581744, 'hhc': 628327, 'hho': 580672})"
      ]
     },
     "execution_count": 20,
     "metadata": {},
     "output_type": "execute_result"
    }
   ],
   "source": [
    "min_max_segm_lens(personal_segments)"
   ]
  },
  {
   "cell_type": "code",
   "execution_count": 23,
   "metadata": {},
   "outputs": [
    {
     "data": {
      "text/html": [
       "<div>\n",
       "<style scoped>\n",
       "    .dataframe tbody tr th:only-of-type {\n",
       "        vertical-align: middle;\n",
       "    }\n",
       "\n",
       "    .dataframe tbody tr th {\n",
       "        vertical-align: top;\n",
       "    }\n",
       "\n",
       "    .dataframe thead th {\n",
       "        text-align: right;\n",
       "    }\n",
       "</style>\n",
       "<table border=\"1\" class=\"dataframe\">\n",
       "  <thead>\n",
       "    <tr style=\"text-align: right;\">\n",
       "      <th></th>\n",
       "      <th>track</th>\n",
       "      <th>min_diff</th>\n",
       "      <th>max_diff</th>\n",
       "      <th>duration</th>\n",
       "    </tr>\n",
       "  </thead>\n",
       "  <tbody>\n",
       "    <tr>\n",
       "      <th>0</th>\n",
       "      <td>P27_Improvisation_Fixed</td>\n",
       "      <td>0.120816</td>\n",
       "      <td>0.775692</td>\n",
       "      <td>20.494512</td>\n",
       "    </tr>\n",
       "    <tr>\n",
       "      <th>1</th>\n",
       "      <td>P27_HHopened_Fixed</td>\n",
       "      <td>0.159365</td>\n",
       "      <td>0.691429</td>\n",
       "      <td>9.896780</td>\n",
       "    </tr>\n",
       "    <tr>\n",
       "      <th>2</th>\n",
       "      <td>P27_Kick_Fixed</td>\n",
       "      <td>0.132789</td>\n",
       "      <td>0.675918</td>\n",
       "      <td>9.943220</td>\n",
       "    </tr>\n",
       "    <tr>\n",
       "      <th>3</th>\n",
       "      <td>P27_Snare_Fixed</td>\n",
       "      <td>0.160000</td>\n",
       "      <td>0.657778</td>\n",
       "      <td>9.687800</td>\n",
       "    </tr>\n",
       "    <tr>\n",
       "      <th>4</th>\n",
       "      <td>P27_HHclosed_Fixed</td>\n",
       "      <td>0.156372</td>\n",
       "      <td>0.667211</td>\n",
       "      <td>9.827120</td>\n",
       "    </tr>\n",
       "    <tr>\n",
       "      <th>...</th>\n",
       "      <td>...</td>\n",
       "      <td>...</td>\n",
       "      <td>...</td>\n",
       "      <td>...</td>\n",
       "    </tr>\n",
       "    <tr>\n",
       "      <th>135</th>\n",
       "      <td>P3_HHopened_Fixed</td>\n",
       "      <td>0.140771</td>\n",
       "      <td>0.672653</td>\n",
       "      <td>9.975828</td>\n",
       "    </tr>\n",
       "    <tr>\n",
       "      <th>136</th>\n",
       "      <td>P3_Kick_Fixed</td>\n",
       "      <td>0.119546</td>\n",
       "      <td>0.682630</td>\n",
       "      <td>10.036825</td>\n",
       "    </tr>\n",
       "    <tr>\n",
       "      <th>137</th>\n",
       "      <td>P3_HHclosed_Fixed</td>\n",
       "      <td>0.157823</td>\n",
       "      <td>0.693878</td>\n",
       "      <td>10.518639</td>\n",
       "    </tr>\n",
       "    <tr>\n",
       "      <th>138</th>\n",
       "      <td>P3_Snare_Fixed</td>\n",
       "      <td>0.148753</td>\n",
       "      <td>0.686803</td>\n",
       "      <td>10.460590</td>\n",
       "    </tr>\n",
       "    <tr>\n",
       "      <th>139</th>\n",
       "      <td>P3_Improvisation_Fixed</td>\n",
       "      <td>0.292245</td>\n",
       "      <td>0.773878</td>\n",
       "      <td>10.025215</td>\n",
       "    </tr>\n",
       "  </tbody>\n",
       "</table>\n",
       "<p>140 rows × 4 columns</p>\n",
       "</div>"
      ],
      "text/plain": [
       "                       track  min_diff  max_diff   duration\n",
       "0    P27_Improvisation_Fixed  0.120816  0.775692  20.494512\n",
       "1         P27_HHopened_Fixed  0.159365  0.691429   9.896780\n",
       "2             P27_Kick_Fixed  0.132789  0.675918   9.943220\n",
       "3            P27_Snare_Fixed  0.160000  0.657778   9.687800\n",
       "4         P27_HHclosed_Fixed  0.156372  0.667211   9.827120\n",
       "..                       ...       ...       ...        ...\n",
       "135        P3_HHopened_Fixed  0.140771  0.672653   9.975828\n",
       "136            P3_Kick_Fixed  0.119546  0.682630  10.036825\n",
       "137        P3_HHclosed_Fixed  0.157823  0.693878  10.518639\n",
       "138           P3_Snare_Fixed  0.148753  0.686803  10.460590\n",
       "139   P3_Improvisation_Fixed  0.292245  0.773878  10.025215\n",
       "\n",
       "[140 rows x 4 columns]"
      ]
     },
     "execution_count": 23,
     "metadata": {},
     "output_type": "execute_result"
    }
   ],
   "source": [
    "diff_table(avp_set_fixed)"
   ]
  },
  {
   "cell_type": "code",
   "execution_count": 24,
   "metadata": {},
   "outputs": [
    {
     "data": {
      "text/html": [
       "<div>\n",
       "<style scoped>\n",
       "    .dataframe tbody tr th:only-of-type {\n",
       "        vertical-align: middle;\n",
       "    }\n",
       "\n",
       "    .dataframe tbody tr th {\n",
       "        vertical-align: top;\n",
       "    }\n",
       "\n",
       "    .dataframe thead th {\n",
       "        text-align: right;\n",
       "    }\n",
       "</style>\n",
       "<table border=\"1\" class=\"dataframe\">\n",
       "  <thead>\n",
       "    <tr style=\"text-align: right;\">\n",
       "      <th></th>\n",
       "      <th>track</th>\n",
       "      <th>min_diff</th>\n",
       "      <th>max_diff</th>\n",
       "      <th>duration</th>\n",
       "    </tr>\n",
       "  </thead>\n",
       "  <tbody>\n",
       "    <tr>\n",
       "      <th>0</th>\n",
       "      <td>P27_Improvisation_Personal</td>\n",
       "      <td>0.125533</td>\n",
       "      <td>0.682812</td>\n",
       "      <td>21.251451</td>\n",
       "    </tr>\n",
       "    <tr>\n",
       "      <th>1</th>\n",
       "      <td>P27_Snare_Personal</td>\n",
       "      <td>0.141678</td>\n",
       "      <td>0.699864</td>\n",
       "      <td>10.123900</td>\n",
       "    </tr>\n",
       "    <tr>\n",
       "      <th>2</th>\n",
       "      <td>P27_HHopened_Personal</td>\n",
       "      <td>0.125170</td>\n",
       "      <td>0.714195</td>\n",
       "      <td>9.884082</td>\n",
       "    </tr>\n",
       "    <tr>\n",
       "      <th>3</th>\n",
       "      <td>P27_HHclosed_Personal</td>\n",
       "      <td>0.151474</td>\n",
       "      <td>0.685714</td>\n",
       "      <td>10.987392</td>\n",
       "    </tr>\n",
       "    <tr>\n",
       "      <th>4</th>\n",
       "      <td>P27_Kick_Personal</td>\n",
       "      <td>0.140771</td>\n",
       "      <td>0.694785</td>\n",
       "      <td>11.122358</td>\n",
       "    </tr>\n",
       "    <tr>\n",
       "      <th>...</th>\n",
       "      <td>...</td>\n",
       "      <td>...</td>\n",
       "      <td>...</td>\n",
       "      <td>...</td>\n",
       "    </tr>\n",
       "    <tr>\n",
       "      <th>120</th>\n",
       "      <td>P3_HHopened_Personal</td>\n",
       "      <td>0.145669</td>\n",
       "      <td>0.697415</td>\n",
       "      <td>9.797370</td>\n",
       "    </tr>\n",
       "    <tr>\n",
       "      <th>121</th>\n",
       "      <td>P3_Improvisation_Personal</td>\n",
       "      <td>0.203356</td>\n",
       "      <td>0.691338</td>\n",
       "      <td>19.747120</td>\n",
       "    </tr>\n",
       "    <tr>\n",
       "      <th>122</th>\n",
       "      <td>P3_Snare_Personal</td>\n",
       "      <td>0.165986</td>\n",
       "      <td>0.704762</td>\n",
       "      <td>12.450249</td>\n",
       "    </tr>\n",
       "    <tr>\n",
       "      <th>123</th>\n",
       "      <td>P3_Kick_Personal</td>\n",
       "      <td>0.140771</td>\n",
       "      <td>0.676281</td>\n",
       "      <td>11.045442</td>\n",
       "    </tr>\n",
       "    <tr>\n",
       "      <th>124</th>\n",
       "      <td>P3_HHclosed_Personal</td>\n",
       "      <td>0.126077</td>\n",
       "      <td>0.653968</td>\n",
       "      <td>9.170431</td>\n",
       "    </tr>\n",
       "  </tbody>\n",
       "</table>\n",
       "<p>125 rows × 4 columns</p>\n",
       "</div>"
      ],
      "text/plain": [
       "                          track  min_diff  max_diff   duration\n",
       "0    P27_Improvisation_Personal  0.125533  0.682812  21.251451\n",
       "1            P27_Snare_Personal  0.141678  0.699864  10.123900\n",
       "2         P27_HHopened_Personal  0.125170  0.714195   9.884082\n",
       "3         P27_HHclosed_Personal  0.151474  0.685714  10.987392\n",
       "4             P27_Kick_Personal  0.140771  0.694785  11.122358\n",
       "..                          ...       ...       ...        ...\n",
       "120        P3_HHopened_Personal  0.145669  0.697415   9.797370\n",
       "121   P3_Improvisation_Personal  0.203356  0.691338  19.747120\n",
       "122           P3_Snare_Personal  0.165986  0.704762  12.450249\n",
       "123            P3_Kick_Personal  0.140771  0.676281  11.045442\n",
       "124        P3_HHclosed_Personal  0.126077  0.653968   9.170431\n",
       "\n",
       "[125 rows x 4 columns]"
      ]
     },
     "execution_count": 24,
     "metadata": {},
     "output_type": "execute_result"
    }
   ],
   "source": [
    "diff_table(avp_set_personal)"
   ]
  }
 ],
 "metadata": {
  "kernelspec": {
   "display_name": "Python 3",
   "language": "python",
   "name": "python3"
  },
  "language_info": {
   "codemirror_mode": {
    "name": "ipython",
    "version": 3
   },
   "file_extension": ".py",
   "mimetype": "text/x-python",
   "name": "python",
   "nbconvert_exporter": "python",
   "pygments_lexer": "ipython3",
   "version": "3.6.9"
  }
 },
 "nbformat": 4,
 "nbformat_minor": 4
}
