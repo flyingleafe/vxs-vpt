{
 "cells": [
  {
   "cell_type": "code",
   "execution_count": null,
   "metadata": {},
   "outputs": [],
   "source": [
    "#install.packages(\"lme4\")\n",
    "#install.packages(\"tidyverse\")"
   ]
  },
  {
   "cell_type": "code",
   "execution_count": 22,
   "metadata": {},
   "outputs": [],
   "source": [
    "library(lme4)\n",
    "library(purrr)"
   ]
  },
  {
   "cell_type": "code",
   "execution_count": 23,
   "metadata": {},
   "outputs": [
    {
     "data": {
      "text/html": [
       "<table>\n",
       "<caption>A data.frame: 6 × 18</caption>\n",
       "<thead>\n",
       "\t<tr><th></th><th scope=col>X</th><th scope=col>listener</th><th scope=col>imitator</th><th scope=col>imitated_sound</th><th scope=col>rated_sound</th><th scope=col>rating</th><th scope=col>distance_mfcc</th><th scope=col>distance_square.1</th><th scope=col>distance_square.2</th><th scope=col>distance_square.3</th><th scope=col>distance_tall.1</th><th scope=col>distance_tall.2</th><th scope=col>distance_tall.3</th><th scope=col>distance_tall.4</th><th scope=col>distance_wide.1</th><th scope=col>distance_wide.2</th><th scope=col>distance_wide.3</th><th scope=col>distance_wide.4</th></tr>\n",
       "\t<tr><th></th><th scope=col>&lt;int&gt;</th><th scope=col>&lt;fct&gt;</th><th scope=col>&lt;fct&gt;</th><th scope=col>&lt;fct&gt;</th><th scope=col>&lt;fct&gt;</th><th scope=col>&lt;dbl&gt;</th><th scope=col>&lt;dbl&gt;</th><th scope=col>&lt;dbl&gt;</th><th scope=col>&lt;dbl&gt;</th><th scope=col>&lt;dbl&gt;</th><th scope=col>&lt;dbl&gt;</th><th scope=col>&lt;dbl&gt;</th><th scope=col>&lt;dbl&gt;</th><th scope=col>&lt;dbl&gt;</th><th scope=col>&lt;dbl&gt;</th><th scope=col>&lt;dbl&gt;</th><th scope=col>&lt;dbl&gt;</th><th scope=col>&lt;dbl&gt;</th></tr>\n",
       "</thead>\n",
       "<tbody>\n",
       "\t<tr><th scope=row>1</th><td>0</td><td>12</td><td>6</td><td>20</td><td>19</td><td>0.00</td><td>0.06332231</td><td>0.2027404</td><td>0.1370203</td><td>0.1614521</td><td>0.1268050</td><td>0.1585138</td><td>0.1667408</td><td>0.1914821</td><td>0.1280719</td><td>0.1280301</td><td>0.1430186</td><td>0.1173285</td></tr>\n",
       "\t<tr><th scope=row>2</th><td>1</td><td>12</td><td>6</td><td>20</td><td>18</td><td>0.00</td><td>0.09943608</td><td>0.4104809</td><td>0.3369498</td><td>0.3294773</td><td>0.3451945</td><td>0.4328094</td><td>0.4634148</td><td>0.5146450</td><td>0.3647875</td><td>0.3296368</td><td>0.3899416</td><td>0.3060017</td></tr>\n",
       "\t<tr><th scope=row>3</th><td>2</td><td>12</td><td>6</td><td>20</td><td>21</td><td>0.41</td><td>0.14185922</td><td>0.7157205</td><td>0.8561117</td><td>0.6695597</td><td>0.8801357</td><td>0.7574043</td><td>0.6271361</td><td>0.6880630</td><td>0.8893299</td><td>0.8488796</td><td>0.8736684</td><td>0.8924653</td></tr>\n",
       "\t<tr><th scope=row>4</th><td>3</td><td>12</td><td>6</td><td>20</td><td>20</td><td>0.40</td><td>0.41093788</td><td>0.2703048</td><td>0.1925355</td><td>0.2500862</td><td>0.1798870</td><td>0.2387509</td><td>0.2488807</td><td>0.3127587</td><td>0.1876273</td><td>0.1730866</td><td>0.1788053</td><td>0.1585738</td></tr>\n",
       "\t<tr><th scope=row>5</th><td>4</td><td>12</td><td>6</td><td>20</td><td>23</td><td>0.00</td><td>0.36282173</td><td>0.7130383</td><td>0.6724250</td><td>0.7260907</td><td>0.7588301</td><td>0.7933645</td><td>0.6516004</td><td>0.8031250</td><td>0.7577105</td><td>0.7599676</td><td>0.7981335</td><td>0.7648124</td></tr>\n",
       "\t<tr><th scope=row>6</th><td>5</td><td>12</td><td>6</td><td>20</td><td>22</td><td>0.55</td><td>0.37178692</td><td>0.6815770</td><td>0.6674016</td><td>0.7083207</td><td>0.7460364</td><td>0.7724084</td><td>0.6346039</td><td>0.7791269</td><td>0.7561821</td><td>0.7612209</td><td>0.7934590</td><td>0.7607222</td></tr>\n",
       "</tbody>\n",
       "</table>\n"
      ],
      "text/latex": [
       "A data.frame: 6 × 18\n",
       "\\begin{tabular}{r|llllllllllllllllll}\n",
       "  & X & listener & imitator & imitated\\_sound & rated\\_sound & rating & distance\\_mfcc & distance\\_square.1 & distance\\_square.2 & distance\\_square.3 & distance\\_tall.1 & distance\\_tall.2 & distance\\_tall.3 & distance\\_tall.4 & distance\\_wide.1 & distance\\_wide.2 & distance\\_wide.3 & distance\\_wide.4\\\\\n",
       "  & <int> & <fct> & <fct> & <fct> & <fct> & <dbl> & <dbl> & <dbl> & <dbl> & <dbl> & <dbl> & <dbl> & <dbl> & <dbl> & <dbl> & <dbl> & <dbl> & <dbl>\\\\\n",
       "\\hline\n",
       "\t1 & 0 & 12 & 6 & 20 & 19 & 0.00 & 0.06332231 & 0.2027404 & 0.1370203 & 0.1614521 & 0.1268050 & 0.1585138 & 0.1667408 & 0.1914821 & 0.1280719 & 0.1280301 & 0.1430186 & 0.1173285\\\\\n",
       "\t2 & 1 & 12 & 6 & 20 & 18 & 0.00 & 0.09943608 & 0.4104809 & 0.3369498 & 0.3294773 & 0.3451945 & 0.4328094 & 0.4634148 & 0.5146450 & 0.3647875 & 0.3296368 & 0.3899416 & 0.3060017\\\\\n",
       "\t3 & 2 & 12 & 6 & 20 & 21 & 0.41 & 0.14185922 & 0.7157205 & 0.8561117 & 0.6695597 & 0.8801357 & 0.7574043 & 0.6271361 & 0.6880630 & 0.8893299 & 0.8488796 & 0.8736684 & 0.8924653\\\\\n",
       "\t4 & 3 & 12 & 6 & 20 & 20 & 0.40 & 0.41093788 & 0.2703048 & 0.1925355 & 0.2500862 & 0.1798870 & 0.2387509 & 0.2488807 & 0.3127587 & 0.1876273 & 0.1730866 & 0.1788053 & 0.1585738\\\\\n",
       "\t5 & 4 & 12 & 6 & 20 & 23 & 0.00 & 0.36282173 & 0.7130383 & 0.6724250 & 0.7260907 & 0.7588301 & 0.7933645 & 0.6516004 & 0.8031250 & 0.7577105 & 0.7599676 & 0.7981335 & 0.7648124\\\\\n",
       "\t6 & 5 & 12 & 6 & 20 & 22 & 0.55 & 0.37178692 & 0.6815770 & 0.6674016 & 0.7083207 & 0.7460364 & 0.7724084 & 0.6346039 & 0.7791269 & 0.7561821 & 0.7612209 & 0.7934590 & 0.7607222\\\\\n",
       "\\end{tabular}\n"
      ],
      "text/markdown": [
       "\n",
       "A data.frame: 6 × 18\n",
       "\n",
       "| <!--/--> | X &lt;int&gt; | listener &lt;fct&gt; | imitator &lt;fct&gt; | imitated_sound &lt;fct&gt; | rated_sound &lt;fct&gt; | rating &lt;dbl&gt; | distance_mfcc &lt;dbl&gt; | distance_square.1 &lt;dbl&gt; | distance_square.2 &lt;dbl&gt; | distance_square.3 &lt;dbl&gt; | distance_tall.1 &lt;dbl&gt; | distance_tall.2 &lt;dbl&gt; | distance_tall.3 &lt;dbl&gt; | distance_tall.4 &lt;dbl&gt; | distance_wide.1 &lt;dbl&gt; | distance_wide.2 &lt;dbl&gt; | distance_wide.3 &lt;dbl&gt; | distance_wide.4 &lt;dbl&gt; |\n",
       "|---|---|---|---|---|---|---|---|---|---|---|---|---|---|---|---|---|---|---|\n",
       "| 1 | 0 | 12 | 6 | 20 | 19 | 0.00 | 0.06332231 | 0.2027404 | 0.1370203 | 0.1614521 | 0.1268050 | 0.1585138 | 0.1667408 | 0.1914821 | 0.1280719 | 0.1280301 | 0.1430186 | 0.1173285 |\n",
       "| 2 | 1 | 12 | 6 | 20 | 18 | 0.00 | 0.09943608 | 0.4104809 | 0.3369498 | 0.3294773 | 0.3451945 | 0.4328094 | 0.4634148 | 0.5146450 | 0.3647875 | 0.3296368 | 0.3899416 | 0.3060017 |\n",
       "| 3 | 2 | 12 | 6 | 20 | 21 | 0.41 | 0.14185922 | 0.7157205 | 0.8561117 | 0.6695597 | 0.8801357 | 0.7574043 | 0.6271361 | 0.6880630 | 0.8893299 | 0.8488796 | 0.8736684 | 0.8924653 |\n",
       "| 4 | 3 | 12 | 6 | 20 | 20 | 0.40 | 0.41093788 | 0.2703048 | 0.1925355 | 0.2500862 | 0.1798870 | 0.2387509 | 0.2488807 | 0.3127587 | 0.1876273 | 0.1730866 | 0.1788053 | 0.1585738 |\n",
       "| 5 | 4 | 12 | 6 | 20 | 23 | 0.00 | 0.36282173 | 0.7130383 | 0.6724250 | 0.7260907 | 0.7588301 | 0.7933645 | 0.6516004 | 0.8031250 | 0.7577105 | 0.7599676 | 0.7981335 | 0.7648124 |\n",
       "| 6 | 5 | 12 | 6 | 20 | 22 | 0.55 | 0.37178692 | 0.6815770 | 0.6674016 | 0.7083207 | 0.7460364 | 0.7724084 | 0.6346039 | 0.7791269 | 0.7561821 | 0.7612209 | 0.7934590 | 0.7607222 |\n",
       "\n"
      ],
      "text/plain": [
       "  X listener imitator imitated_sound rated_sound rating distance_mfcc\n",
       "1 0 12       6        20             19          0.00   0.06332231   \n",
       "2 1 12       6        20             18          0.00   0.09943608   \n",
       "3 2 12       6        20             21          0.41   0.14185922   \n",
       "4 3 12       6        20             20          0.40   0.41093788   \n",
       "5 4 12       6        20             23          0.00   0.36282173   \n",
       "6 5 12       6        20             22          0.55   0.37178692   \n",
       "  distance_square.1 distance_square.2 distance_square.3 distance_tall.1\n",
       "1 0.2027404         0.1370203         0.1614521         0.1268050      \n",
       "2 0.4104809         0.3369498         0.3294773         0.3451945      \n",
       "3 0.7157205         0.8561117         0.6695597         0.8801357      \n",
       "4 0.2703048         0.1925355         0.2500862         0.1798870      \n",
       "5 0.7130383         0.6724250         0.7260907         0.7588301      \n",
       "6 0.6815770         0.6674016         0.7083207         0.7460364      \n",
       "  distance_tall.2 distance_tall.3 distance_tall.4 distance_wide.1\n",
       "1 0.1585138       0.1667408       0.1914821       0.1280719      \n",
       "2 0.4328094       0.4634148       0.5146450       0.3647875      \n",
       "3 0.7574043       0.6271361       0.6880630       0.8893299      \n",
       "4 0.2387509       0.2488807       0.3127587       0.1876273      \n",
       "5 0.7933645       0.6516004       0.8031250       0.7577105      \n",
       "6 0.7724084       0.6346039       0.7791269       0.7561821      \n",
       "  distance_wide.2 distance_wide.3 distance_wide.4\n",
       "1 0.1280301       0.1430186       0.1173285      \n",
       "2 0.3296368       0.3899416       0.3060017      \n",
       "3 0.8488796       0.8736684       0.8924653      \n",
       "4 0.1730866       0.1788053       0.1585738      \n",
       "5 0.7599676       0.7981335       0.7648124      \n",
       "6 0.7612209       0.7934590       0.7607222      "
      ]
     },
     "metadata": {},
     "output_type": "display_data"
    }
   ],
   "source": [
    "dat <- read.csv('../data/mehrabi-eval/data/analysed_data_2.csv')\n",
    "dat$imitator <- as.factor(dat$imitator)\n",
    "dat$listener <- as.factor(dat$listener)\n",
    "dat$imitated_sound <- as.factor(dat$imitated_sound)\n",
    "dat$rated_sound <- as.factor(dat$rated_sound)\n",
    "dat$rating <- dat$rating / 100\n",
    "head(dat)"
   ]
  },
  {
   "cell_type": "code",
   "execution_count": 63,
   "metadata": {},
   "outputs": [
    {
     "name": "stderr",
     "output_type": "stream",
     "text": [
      "Warning message in `[<-`(`*tmp*`, col, value = lmer(rating ~ imitated_sound * distance_mfcc + :\n",
      "“implicit list embedding of S4 objects is deprecated”\n",
      "Warning message in `[<-`(`*tmp*`, col, value = lmer(rating ~ imitated_sound * distance_mfcc + :\n",
      "“implicit list embedding of S4 objects is deprecated”\n",
      "Warning message in `[<-`(`*tmp*`, col, value = lmer(rating ~ imitated_sound * distance_mfcc + :\n",
      "“implicit list embedding of S4 objects is deprecated”\n",
      "Warning message in `[<-`(`*tmp*`, col, value = lmer(rating ~ imitated_sound * distance_mfcc + :\n",
      "“implicit list embedding of S4 objects is deprecated”\n",
      "Warning message in `[<-`(`*tmp*`, col, value = lmer(rating ~ imitated_sound * distance_mfcc + :\n",
      "“implicit list embedding of S4 objects is deprecated”\n",
      "Warning message in `[<-`(`*tmp*`, col, value = lmer(rating ~ imitated_sound * distance_mfcc + :\n",
      "“implicit list embedding of S4 objects is deprecated”\n",
      "Warning message in `[<-`(`*tmp*`, col, value = lmer(rating ~ imitated_sound * distance_mfcc + :\n",
      "“implicit list embedding of S4 objects is deprecated”\n",
      "Warning message in `[<-`(`*tmp*`, col, value = lmer(rating ~ imitated_sound * distance_mfcc + :\n",
      "“implicit list embedding of S4 objects is deprecated”\n",
      "Warning message in `[<-`(`*tmp*`, col, value = lmer(rating ~ imitated_sound * distance_mfcc + :\n",
      "“implicit list embedding of S4 objects is deprecated”\n",
      "Warning message in `[<-`(`*tmp*`, col, value = lmer(rating ~ imitated_sound * distance_mfcc + :\n",
      "“implicit list embedding of S4 objects is deprecated”\n",
      "Warning message in `[<-`(`*tmp*`, col, value = lmer(rating ~ imitated_sound * distance_mfcc + :\n",
      "“implicit list embedding of S4 objects is deprecated”\n",
      "Warning message in `[<-`(`*tmp*`, col, value = lmer(rating ~ imitated_sound * distance_mfcc + :\n",
      "“implicit list embedding of S4 objects is deprecated”\n"
     ]
    }
   ],
   "source": [
    "cols <- colnames(dat)\n",
    "lmes_all <- list()\n",
    "for (col in cols) {\n",
    "    if (startsWith(col, \"distance\")) {\n",
    "        lmes_all[col] <- lmer(rating ~ imitated_sound*distance_mfcc + (1 | listener), dat, REML=FALSE)\n",
    "    }\n",
    "}"
   ]
  },
  {
   "cell_type": "code",
   "execution_count": 60,
   "metadata": {},
   "outputs": [
    {
     "data": {
      "text/html": [
       "1544.80827170004"
      ],
      "text/latex": [
       "1544.80827170004"
      ],
      "text/markdown": [
       "1544.80827170004"
      ],
      "text/plain": [
       "[1] 1544.808"
      ]
     },
     "metadata": {},
     "output_type": "display_data"
    }
   ],
   "source": [
    "extractAIC(lmes_all$distance_mfcc)[2]"
   ]
  },
  {
   "cell_type": "code",
   "execution_count": 75,
   "metadata": {},
   "outputs": [
    {
     "data": {
      "text/html": [
       "<style>\n",
       ".dl-inline {width: auto; margin:0; padding: 0}\n",
       ".dl-inline>dt, .dl-inline>dd {float: none; width: auto; display: inline-block}\n",
       ".dl-inline>dt::after {content: \":\\0020\"; padding-right: .5ex}\n",
       ".dl-inline>dt:not(:first-of-type) {padding-left: .5ex}\n",
       "</style><dl class=dl-inline><dt>.sig01</dt><dd>&lt;NA&gt;</dd><dt>.sigma</dt><dd>&lt;NA&gt;</dd><dt>(Intercept)</dt><dd>0.437923357888055</dd><dt>imitated_sound1</dt><dd>0.00760925757051321</dd><dt>imitated_sound2</dt><dd>-0.142878245914198</dd><dt>imitated_sound3</dt><dd>-0.112932345875951</dd><dt>imitated_sound4</dt><dd>0.165771355370659</dd><dt>imitated_sound5</dt><dd>-0.0356936322805462</dd><dt>imitated_sound6</dt><dd>0.0639747369060372</dd><dt>imitated_sound7</dt><dd>0.0603586939503482</dd><dt>imitated_sound8</dt><dd>0.00820378553946964</dd><dt>imitated_sound9</dt><dd>-0.0355161993584805</dd><dt>imitated_sound10</dt><dd>0.0928174618922001</dd><dt>imitated_sound11</dt><dd>0.0373370222501297</dd><dt>imitated_sound12</dt><dd>0.0888636828077959</dd><dt>imitated_sound13</dt><dd>0.0999583570297302</dd><dt>imitated_sound14</dt><dd>0.0297184086481782</dd><dt>imitated_sound15</dt><dd>-0.0633120609859149</dd><dt>imitated_sound16</dt><dd>0.0944119938499683</dd><dt>imitated_sound17</dt><dd>0.046701760888437</dd><dt>imitated_sound18</dt><dd>0.23872672304012</dd><dt>imitated_sound19</dt><dd>0.170801790616476</dd><dt>imitated_sound20</dt><dd>0.192259889517499</dd><dt>imitated_sound21</dt><dd>0.123406189619124</dd><dt>imitated_sound22</dt><dd>-0.00617293472612507</dd><dt>imitated_sound23</dt><dd>-0.0895590606535405</dd><dt>imitated_sound24</dt><dd>0.101995572012127</dd><dt>imitated_sound25</dt><dd>0.1337543813338</dd><dt>imitated_sound26</dt><dd>0.12305475669284</dd><dt>imitated_sound27</dt><dd>0.0874974043078001</dd><dt>imitated_sound28</dt><dd>0.0283053904083501</dd><dt>imitated_sound29</dt><dd>0.0663216779357544</dd><dt>distance_mfcc</dt><dd>0.175816877932803</dd><dt>imitated_sound1:distance_mfcc</dt><dd>0.470740570407346</dd><dt>imitated_sound2:distance_mfcc</dt><dd>0.827847929891804</dd><dt>imitated_sound3:distance_mfcc</dt><dd>0.728041758368383</dd><dt>imitated_sound4:distance_mfcc</dt><dd>-0.0196612295352415</dd><dt>imitated_sound5:distance_mfcc</dt><dd>0.585250662912408</dd><dt>imitated_sound6:distance_mfcc</dt><dd>0.145440992403436</dd><dt>imitated_sound7:distance_mfcc</dt><dd>0.0789731756442486</dd><dt>imitated_sound8:distance_mfcc</dt><dd>0.249690902136252</dd><dt>imitated_sound9:distance_mfcc</dt><dd>0.64680543568405</dd><dt>imitated_sound10:distance_mfcc</dt><dd>0.18413377452374</dd><dt>imitated_sound11:distance_mfcc</dt><dd>0.270488897479154</dd><dt>imitated_sound12:distance_mfcc</dt><dd>-0.0300463549687403</dd><dt>imitated_sound13:distance_mfcc</dt><dd>-0.0858509947562143</dd><dt>imitated_sound14:distance_mfcc</dt><dd>0.0471777437059188</dd><dt>imitated_sound15:distance_mfcc</dt><dd>0.465983276603953</dd><dt>imitated_sound16:distance_mfcc</dt><dd>-0.00274335211679891</dd><dt>imitated_sound17:distance_mfcc</dt><dd>0.13762361213856</dd><dt>imitated_sound18:distance_mfcc</dt><dd>-0.314336025612513</dd><dt>imitated_sound19:distance_mfcc</dt><dd>-0.0998169483238444</dd><dt>imitated_sound20:distance_mfcc</dt><dd>-0.123317908074176</dd><dt>imitated_sound21:distance_mfcc</dt><dd>-0.0534285726045371</dd><dt>imitated_sound22:distance_mfcc</dt><dd>0.497972036443757</dd><dt>imitated_sound23:distance_mfcc</dt><dd>0.653708923057872</dd><dt>imitated_sound24:distance_mfcc</dt><dd>0.214238602194545</dd><dt>imitated_sound25:distance_mfcc</dt><dd>0.0756237121617961</dd><dt>imitated_sound26:distance_mfcc</dt><dd>0.131482452205459</dd><dt>imitated_sound27:distance_mfcc</dt><dd>0.342344390117868</dd><dt>imitated_sound28:distance_mfcc</dt><dd>0.503628833632739</dd><dt>imitated_sound29:distance_mfcc</dt><dd>0.377369757084058</dd></dl>\n"
      ],
      "text/latex": [
       "\\begin{description*}\n",
       "\\item[.sig01] <NA>\n",
       "\\item[.sigma] <NA>\n",
       "\\item[(Intercept)] 0.437923357888055\n",
       "\\item[imitated\\textbackslash{}\\_sound1] 0.00760925757051321\n",
       "\\item[imitated\\textbackslash{}\\_sound2] -0.142878245914198\n",
       "\\item[imitated\\textbackslash{}\\_sound3] -0.112932345875951\n",
       "\\item[imitated\\textbackslash{}\\_sound4] 0.165771355370659\n",
       "\\item[imitated\\textbackslash{}\\_sound5] -0.0356936322805462\n",
       "\\item[imitated\\textbackslash{}\\_sound6] 0.0639747369060372\n",
       "\\item[imitated\\textbackslash{}\\_sound7] 0.0603586939503482\n",
       "\\item[imitated\\textbackslash{}\\_sound8] 0.00820378553946964\n",
       "\\item[imitated\\textbackslash{}\\_sound9] -0.0355161993584805\n",
       "\\item[imitated\\textbackslash{}\\_sound10] 0.0928174618922001\n",
       "\\item[imitated\\textbackslash{}\\_sound11] 0.0373370222501297\n",
       "\\item[imitated\\textbackslash{}\\_sound12] 0.0888636828077959\n",
       "\\item[imitated\\textbackslash{}\\_sound13] 0.0999583570297302\n",
       "\\item[imitated\\textbackslash{}\\_sound14] 0.0297184086481782\n",
       "\\item[imitated\\textbackslash{}\\_sound15] -0.0633120609859149\n",
       "\\item[imitated\\textbackslash{}\\_sound16] 0.0944119938499683\n",
       "\\item[imitated\\textbackslash{}\\_sound17] 0.046701760888437\n",
       "\\item[imitated\\textbackslash{}\\_sound18] 0.23872672304012\n",
       "\\item[imitated\\textbackslash{}\\_sound19] 0.170801790616476\n",
       "\\item[imitated\\textbackslash{}\\_sound20] 0.192259889517499\n",
       "\\item[imitated\\textbackslash{}\\_sound21] 0.123406189619124\n",
       "\\item[imitated\\textbackslash{}\\_sound22] -0.00617293472612507\n",
       "\\item[imitated\\textbackslash{}\\_sound23] -0.0895590606535405\n",
       "\\item[imitated\\textbackslash{}\\_sound24] 0.101995572012127\n",
       "\\item[imitated\\textbackslash{}\\_sound25] 0.1337543813338\n",
       "\\item[imitated\\textbackslash{}\\_sound26] 0.12305475669284\n",
       "\\item[imitated\\textbackslash{}\\_sound27] 0.0874974043078001\n",
       "\\item[imitated\\textbackslash{}\\_sound28] 0.0283053904083501\n",
       "\\item[imitated\\textbackslash{}\\_sound29] 0.0663216779357544\n",
       "\\item[distance\\textbackslash{}\\_mfcc] 0.175816877932803\n",
       "\\item[imitated\\textbackslash{}\\_sound1:distance\\textbackslash{}\\_mfcc] 0.470740570407346\n",
       "\\item[imitated\\textbackslash{}\\_sound2:distance\\textbackslash{}\\_mfcc] 0.827847929891804\n",
       "\\item[imitated\\textbackslash{}\\_sound3:distance\\textbackslash{}\\_mfcc] 0.728041758368383\n",
       "\\item[imitated\\textbackslash{}\\_sound4:distance\\textbackslash{}\\_mfcc] -0.0196612295352415\n",
       "\\item[imitated\\textbackslash{}\\_sound5:distance\\textbackslash{}\\_mfcc] 0.585250662912408\n",
       "\\item[imitated\\textbackslash{}\\_sound6:distance\\textbackslash{}\\_mfcc] 0.145440992403436\n",
       "\\item[imitated\\textbackslash{}\\_sound7:distance\\textbackslash{}\\_mfcc] 0.0789731756442486\n",
       "\\item[imitated\\textbackslash{}\\_sound8:distance\\textbackslash{}\\_mfcc] 0.249690902136252\n",
       "\\item[imitated\\textbackslash{}\\_sound9:distance\\textbackslash{}\\_mfcc] 0.64680543568405\n",
       "\\item[imitated\\textbackslash{}\\_sound10:distance\\textbackslash{}\\_mfcc] 0.18413377452374\n",
       "\\item[imitated\\textbackslash{}\\_sound11:distance\\textbackslash{}\\_mfcc] 0.270488897479154\n",
       "\\item[imitated\\textbackslash{}\\_sound12:distance\\textbackslash{}\\_mfcc] -0.0300463549687403\n",
       "\\item[imitated\\textbackslash{}\\_sound13:distance\\textbackslash{}\\_mfcc] -0.0858509947562143\n",
       "\\item[imitated\\textbackslash{}\\_sound14:distance\\textbackslash{}\\_mfcc] 0.0471777437059188\n",
       "\\item[imitated\\textbackslash{}\\_sound15:distance\\textbackslash{}\\_mfcc] 0.465983276603953\n",
       "\\item[imitated\\textbackslash{}\\_sound16:distance\\textbackslash{}\\_mfcc] -0.00274335211679891\n",
       "\\item[imitated\\textbackslash{}\\_sound17:distance\\textbackslash{}\\_mfcc] 0.13762361213856\n",
       "\\item[imitated\\textbackslash{}\\_sound18:distance\\textbackslash{}\\_mfcc] -0.314336025612513\n",
       "\\item[imitated\\textbackslash{}\\_sound19:distance\\textbackslash{}\\_mfcc] -0.0998169483238444\n",
       "\\item[imitated\\textbackslash{}\\_sound20:distance\\textbackslash{}\\_mfcc] -0.123317908074176\n",
       "\\item[imitated\\textbackslash{}\\_sound21:distance\\textbackslash{}\\_mfcc] -0.0534285726045371\n",
       "\\item[imitated\\textbackslash{}\\_sound22:distance\\textbackslash{}\\_mfcc] 0.497972036443757\n",
       "\\item[imitated\\textbackslash{}\\_sound23:distance\\textbackslash{}\\_mfcc] 0.653708923057872\n",
       "\\item[imitated\\textbackslash{}\\_sound24:distance\\textbackslash{}\\_mfcc] 0.214238602194545\n",
       "\\item[imitated\\textbackslash{}\\_sound25:distance\\textbackslash{}\\_mfcc] 0.0756237121617961\n",
       "\\item[imitated\\textbackslash{}\\_sound26:distance\\textbackslash{}\\_mfcc] 0.131482452205459\n",
       "\\item[imitated\\textbackslash{}\\_sound27:distance\\textbackslash{}\\_mfcc] 0.342344390117868\n",
       "\\item[imitated\\textbackslash{}\\_sound28:distance\\textbackslash{}\\_mfcc] 0.503628833632739\n",
       "\\item[imitated\\textbackslash{}\\_sound29:distance\\textbackslash{}\\_mfcc] 0.377369757084058\n",
       "\\end{description*}\n"
      ],
      "text/markdown": [
       ".sig01\n",
       ":   &lt;NA&gt;.sigma\n",
       ":   &lt;NA&gt;(Intercept)\n",
       ":   0.437923357888055imitated_sound1\n",
       ":   0.00760925757051321imitated_sound2\n",
       ":   -0.142878245914198imitated_sound3\n",
       ":   -0.112932345875951imitated_sound4\n",
       ":   0.165771355370659imitated_sound5\n",
       ":   -0.0356936322805462imitated_sound6\n",
       ":   0.0639747369060372imitated_sound7\n",
       ":   0.0603586939503482imitated_sound8\n",
       ":   0.00820378553946964imitated_sound9\n",
       ":   -0.0355161993584805imitated_sound10\n",
       ":   0.0928174618922001imitated_sound11\n",
       ":   0.0373370222501297imitated_sound12\n",
       ":   0.0888636828077959imitated_sound13\n",
       ":   0.0999583570297302imitated_sound14\n",
       ":   0.0297184086481782imitated_sound15\n",
       ":   -0.0633120609859149imitated_sound16\n",
       ":   0.0944119938499683imitated_sound17\n",
       ":   0.046701760888437imitated_sound18\n",
       ":   0.23872672304012imitated_sound19\n",
       ":   0.170801790616476imitated_sound20\n",
       ":   0.192259889517499imitated_sound21\n",
       ":   0.123406189619124imitated_sound22\n",
       ":   -0.00617293472612507imitated_sound23\n",
       ":   -0.0895590606535405imitated_sound24\n",
       ":   0.101995572012127imitated_sound25\n",
       ":   0.1337543813338imitated_sound26\n",
       ":   0.12305475669284imitated_sound27\n",
       ":   0.0874974043078001imitated_sound28\n",
       ":   0.0283053904083501imitated_sound29\n",
       ":   0.0663216779357544distance_mfcc\n",
       ":   0.175816877932803imitated_sound1:distance_mfcc\n",
       ":   0.470740570407346imitated_sound2:distance_mfcc\n",
       ":   0.827847929891804imitated_sound3:distance_mfcc\n",
       ":   0.728041758368383imitated_sound4:distance_mfcc\n",
       ":   -0.0196612295352415imitated_sound5:distance_mfcc\n",
       ":   0.585250662912408imitated_sound6:distance_mfcc\n",
       ":   0.145440992403436imitated_sound7:distance_mfcc\n",
       ":   0.0789731756442486imitated_sound8:distance_mfcc\n",
       ":   0.249690902136252imitated_sound9:distance_mfcc\n",
       ":   0.64680543568405imitated_sound10:distance_mfcc\n",
       ":   0.18413377452374imitated_sound11:distance_mfcc\n",
       ":   0.270488897479154imitated_sound12:distance_mfcc\n",
       ":   -0.0300463549687403imitated_sound13:distance_mfcc\n",
       ":   -0.0858509947562143imitated_sound14:distance_mfcc\n",
       ":   0.0471777437059188imitated_sound15:distance_mfcc\n",
       ":   0.465983276603953imitated_sound16:distance_mfcc\n",
       ":   -0.00274335211679891imitated_sound17:distance_mfcc\n",
       ":   0.13762361213856imitated_sound18:distance_mfcc\n",
       ":   -0.314336025612513imitated_sound19:distance_mfcc\n",
       ":   -0.0998169483238444imitated_sound20:distance_mfcc\n",
       ":   -0.123317908074176imitated_sound21:distance_mfcc\n",
       ":   -0.0534285726045371imitated_sound22:distance_mfcc\n",
       ":   0.497972036443757imitated_sound23:distance_mfcc\n",
       ":   0.653708923057872imitated_sound24:distance_mfcc\n",
       ":   0.214238602194545imitated_sound25:distance_mfcc\n",
       ":   0.0756237121617961imitated_sound26:distance_mfcc\n",
       ":   0.131482452205459imitated_sound27:distance_mfcc\n",
       ":   0.342344390117868imitated_sound28:distance_mfcc\n",
       ":   0.503628833632739imitated_sound29:distance_mfcc\n",
       ":   0.377369757084058\n",
       "\n"
      ],
      "text/plain": [
       "                        .sig01                         .sigma \n",
       "                            NA                             NA \n",
       "                   (Intercept)                imitated_sound1 \n",
       "                   0.437923358                    0.007609258 \n",
       "               imitated_sound2                imitated_sound3 \n",
       "                  -0.142878246                   -0.112932346 \n",
       "               imitated_sound4                imitated_sound5 \n",
       "                   0.165771355                   -0.035693632 \n",
       "               imitated_sound6                imitated_sound7 \n",
       "                   0.063974737                    0.060358694 \n",
       "               imitated_sound8                imitated_sound9 \n",
       "                   0.008203786                   -0.035516199 \n",
       "              imitated_sound10               imitated_sound11 \n",
       "                   0.092817462                    0.037337022 \n",
       "              imitated_sound12               imitated_sound13 \n",
       "                   0.088863683                    0.099958357 \n",
       "              imitated_sound14               imitated_sound15 \n",
       "                   0.029718409                   -0.063312061 \n",
       "              imitated_sound16               imitated_sound17 \n",
       "                   0.094411994                    0.046701761 \n",
       "              imitated_sound18               imitated_sound19 \n",
       "                   0.238726723                    0.170801791 \n",
       "              imitated_sound20               imitated_sound21 \n",
       "                   0.192259890                    0.123406190 \n",
       "              imitated_sound22               imitated_sound23 \n",
       "                  -0.006172935                   -0.089559061 \n",
       "              imitated_sound24               imitated_sound25 \n",
       "                   0.101995572                    0.133754381 \n",
       "              imitated_sound26               imitated_sound27 \n",
       "                   0.123054757                    0.087497404 \n",
       "              imitated_sound28               imitated_sound29 \n",
       "                   0.028305390                    0.066321678 \n",
       "                 distance_mfcc  imitated_sound1:distance_mfcc \n",
       "                   0.175816878                    0.470740570 \n",
       " imitated_sound2:distance_mfcc  imitated_sound3:distance_mfcc \n",
       "                   0.827847930                    0.728041758 \n",
       " imitated_sound4:distance_mfcc  imitated_sound5:distance_mfcc \n",
       "                  -0.019661230                    0.585250663 \n",
       " imitated_sound6:distance_mfcc  imitated_sound7:distance_mfcc \n",
       "                   0.145440992                    0.078973176 \n",
       " imitated_sound8:distance_mfcc  imitated_sound9:distance_mfcc \n",
       "                   0.249690902                    0.646805436 \n",
       "imitated_sound10:distance_mfcc imitated_sound11:distance_mfcc \n",
       "                   0.184133775                    0.270488897 \n",
       "imitated_sound12:distance_mfcc imitated_sound13:distance_mfcc \n",
       "                  -0.030046355                   -0.085850995 \n",
       "imitated_sound14:distance_mfcc imitated_sound15:distance_mfcc \n",
       "                   0.047177744                    0.465983277 \n",
       "imitated_sound16:distance_mfcc imitated_sound17:distance_mfcc \n",
       "                  -0.002743352                    0.137623612 \n",
       "imitated_sound18:distance_mfcc imitated_sound19:distance_mfcc \n",
       "                  -0.314336026                   -0.099816948 \n",
       "imitated_sound20:distance_mfcc imitated_sound21:distance_mfcc \n",
       "                  -0.123317908                   -0.053428573 \n",
       "imitated_sound22:distance_mfcc imitated_sound23:distance_mfcc \n",
       "                   0.497972036                    0.653708923 \n",
       "imitated_sound24:distance_mfcc imitated_sound25:distance_mfcc \n",
       "                   0.214238602                    0.075623712 \n",
       "imitated_sound26:distance_mfcc imitated_sound27:distance_mfcc \n",
       "                   0.131482452                    0.342344390 \n",
       "imitated_sound28:distance_mfcc imitated_sound29:distance_mfcc \n",
       "                   0.503628834                    0.377369757 "
      ]
     },
     "metadata": {},
     "output_type": "display_data"
    }
   ],
   "source": [
    "confint(lmes_all$distance_mfcc, method=\"Wald\")[,\"97.5 %\"]"
   ]
  },
  {
   "cell_type": "code",
   "execution_count": 33,
   "metadata": {},
   "outputs": [
    {
     "data": {
      "text/html": [],
      "text/latex": [],
      "text/markdown": [],
      "text/plain": [
       "logical(0)"
      ]
     },
     "metadata": {},
     "output_type": "display_data"
    }
   ],
   "source": [
    "a <- c()\n",
    "a[0] <- TRUE\n",
    "a"
   ]
  },
  {
   "cell_type": "code",
   "execution_count": null,
   "metadata": {},
   "outputs": [],
   "source": []
  }
 ],
 "metadata": {
  "kernelspec": {
   "display_name": "R",
   "language": "R",
   "name": "ir"
  },
  "language_info": {
   "codemirror_mode": "r",
   "file_extension": ".r",
   "mimetype": "text/x-r-source",
   "name": "R",
   "pygments_lexer": "r",
   "version": "3.6.3"
  }
 },
 "nbformat": 4,
 "nbformat_minor": 4
}
