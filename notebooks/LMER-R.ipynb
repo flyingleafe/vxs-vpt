{
 "cells": [
  {
   "cell_type": "code",
   "execution_count": 7,
   "metadata": {},
   "outputs": [],
   "source": [
    "#install.packages(\"lme4\")\n",
    "#install.packages(\"tidyverse\")"
   ]
  },
  {
   "cell_type": "code",
   "execution_count": 92,
   "metadata": {},
   "outputs": [],
   "source": [
    "library(lme4)\n",
    "library(purrr)\n",
    "library(tibble)"
   ]
  },
  {
   "cell_type": "code",
   "execution_count": 140,
   "metadata": {},
   "outputs": [
    {
     "data": {
      "text/html": [
       "<table>\n",
       "<caption>A data.frame: 6 × 19</caption>\n",
       "<thead>\n",
       "\t<tr><th></th><th scope=col>X</th><th scope=col>listener</th><th scope=col>imitator</th><th scope=col>imitated_sound</th><th scope=col>rated_sound</th><th scope=col>rating</th><th scope=col>distance_mfcc</th><th scope=col>distance_square.1</th><th scope=col>distance_square.2</th><th scope=col>distance_square.3</th><th scope=col>distance_tall.1</th><th scope=col>distance_tall.2</th><th scope=col>distance_tall.3</th><th scope=col>distance_tall.4</th><th scope=col>distance_wide.1</th><th scope=col>distance_wide.2</th><th scope=col>distance_wide.3</th><th scope=col>distance_wide.4</th><th scope=col>distance_mfcc_short</th></tr>\n",
       "\t<tr><th></th><th scope=col>&lt;int&gt;</th><th scope=col>&lt;fct&gt;</th><th scope=col>&lt;fct&gt;</th><th scope=col>&lt;fct&gt;</th><th scope=col>&lt;fct&gt;</th><th scope=col>&lt;dbl&gt;</th><th scope=col>&lt;dbl&gt;</th><th scope=col>&lt;dbl&gt;</th><th scope=col>&lt;dbl&gt;</th><th scope=col>&lt;dbl&gt;</th><th scope=col>&lt;dbl&gt;</th><th scope=col>&lt;dbl&gt;</th><th scope=col>&lt;dbl&gt;</th><th scope=col>&lt;dbl&gt;</th><th scope=col>&lt;dbl&gt;</th><th scope=col>&lt;dbl&gt;</th><th scope=col>&lt;dbl&gt;</th><th scope=col>&lt;dbl&gt;</th><th scope=col>&lt;dbl&gt;</th></tr>\n",
       "</thead>\n",
       "<tbody>\n",
       "\t<tr><th scope=row>1</th><td>0</td><td>12</td><td>6</td><td>20</td><td>19</td><td>0.00</td><td>0.06332231</td><td>0.2087883</td><td>0.2192959</td><td>0.3276160</td><td>0.2418618</td><td>0.2502268</td><td>0.2480478</td><td>0.2704551</td><td>0.2052346</td><td>0.2473502</td><td>0.2273675</td><td>0.2164745</td><td>0.2937442</td></tr>\n",
       "\t<tr><th scope=row>2</th><td>1</td><td>12</td><td>6</td><td>20</td><td>18</td><td>0.00</td><td>0.09943612</td><td>0.1892278</td><td>0.2037417</td><td>0.2799401</td><td>0.2335096</td><td>0.2516639</td><td>0.2278006</td><td>0.2488989</td><td>0.1929450</td><td>0.2389742</td><td>0.2006590</td><td>0.1944595</td><td>0.2829110</td></tr>\n",
       "\t<tr><th scope=row>3</th><td>2</td><td>12</td><td>6</td><td>20</td><td>21</td><td>0.41</td><td>0.14185922</td><td>0.5562489</td><td>0.6218457</td><td>0.6495880</td><td>0.5950477</td><td>0.5747121</td><td>0.5116193</td><td>0.5324236</td><td>0.5987752</td><td>0.6204424</td><td>0.6126037</td><td>0.5143839</td><td>0.1958800</td></tr>\n",
       "\t<tr><th scope=row>4</th><td>3</td><td>12</td><td>6</td><td>20</td><td>20</td><td>0.40</td><td>0.41093785</td><td>0.3207782</td><td>0.3261316</td><td>0.3998655</td><td>0.3684330</td><td>0.3790807</td><td>0.3512518</td><td>0.3725511</td><td>0.3443145</td><td>0.3714650</td><td>0.3745479</td><td>0.3561645</td><td>0.4982607</td></tr>\n",
       "\t<tr><th scope=row>5</th><td>4</td><td>12</td><td>6</td><td>20</td><td>23</td><td>0.00</td><td>0.36282176</td><td>0.5641272</td><td>0.6378974</td><td>0.7255492</td><td>0.6183479</td><td>0.6544065</td><td>0.5800459</td><td>0.6344287</td><td>0.6349404</td><td>0.6600428</td><td>0.6554899</td><td>0.5932593</td><td>0.2622058</td></tr>\n",
       "\t<tr><th scope=row>6</th><td>5</td><td>12</td><td>6</td><td>20</td><td>22</td><td>0.55</td><td>0.37178692</td><td>0.5188829</td><td>0.5670232</td><td>0.6312122</td><td>0.5561374</td><td>0.5567452</td><td>0.5058479</td><td>0.5446006</td><td>0.5628097</td><td>0.6201336</td><td>0.6212298</td><td>0.5188746</td><td>0.2710403</td></tr>\n",
       "</tbody>\n",
       "</table>\n"
      ],
      "text/latex": [
       "A data.frame: 6 × 19\n",
       "\\begin{tabular}{r|lllllllllllllllllll}\n",
       "  & X & listener & imitator & imitated\\_sound & rated\\_sound & rating & distance\\_mfcc & distance\\_square.1 & distance\\_square.2 & distance\\_square.3 & distance\\_tall.1 & distance\\_tall.2 & distance\\_tall.3 & distance\\_tall.4 & distance\\_wide.1 & distance\\_wide.2 & distance\\_wide.3 & distance\\_wide.4 & distance\\_mfcc\\_short\\\\\n",
       "  & <int> & <fct> & <fct> & <fct> & <fct> & <dbl> & <dbl> & <dbl> & <dbl> & <dbl> & <dbl> & <dbl> & <dbl> & <dbl> & <dbl> & <dbl> & <dbl> & <dbl> & <dbl>\\\\\n",
       "\\hline\n",
       "\t1 & 0 & 12 & 6 & 20 & 19 & 0.00 & 0.06332231 & 0.2087883 & 0.2192959 & 0.3276160 & 0.2418618 & 0.2502268 & 0.2480478 & 0.2704551 & 0.2052346 & 0.2473502 & 0.2273675 & 0.2164745 & 0.2937442\\\\\n",
       "\t2 & 1 & 12 & 6 & 20 & 18 & 0.00 & 0.09943612 & 0.1892278 & 0.2037417 & 0.2799401 & 0.2335096 & 0.2516639 & 0.2278006 & 0.2488989 & 0.1929450 & 0.2389742 & 0.2006590 & 0.1944595 & 0.2829110\\\\\n",
       "\t3 & 2 & 12 & 6 & 20 & 21 & 0.41 & 0.14185922 & 0.5562489 & 0.6218457 & 0.6495880 & 0.5950477 & 0.5747121 & 0.5116193 & 0.5324236 & 0.5987752 & 0.6204424 & 0.6126037 & 0.5143839 & 0.1958800\\\\\n",
       "\t4 & 3 & 12 & 6 & 20 & 20 & 0.40 & 0.41093785 & 0.3207782 & 0.3261316 & 0.3998655 & 0.3684330 & 0.3790807 & 0.3512518 & 0.3725511 & 0.3443145 & 0.3714650 & 0.3745479 & 0.3561645 & 0.4982607\\\\\n",
       "\t5 & 4 & 12 & 6 & 20 & 23 & 0.00 & 0.36282176 & 0.5641272 & 0.6378974 & 0.7255492 & 0.6183479 & 0.6544065 & 0.5800459 & 0.6344287 & 0.6349404 & 0.6600428 & 0.6554899 & 0.5932593 & 0.2622058\\\\\n",
       "\t6 & 5 & 12 & 6 & 20 & 22 & 0.55 & 0.37178692 & 0.5188829 & 0.5670232 & 0.6312122 & 0.5561374 & 0.5567452 & 0.5058479 & 0.5446006 & 0.5628097 & 0.6201336 & 0.6212298 & 0.5188746 & 0.2710403\\\\\n",
       "\\end{tabular}\n"
      ],
      "text/markdown": [
       "\n",
       "A data.frame: 6 × 19\n",
       "\n",
       "| <!--/--> | X &lt;int&gt; | listener &lt;fct&gt; | imitator &lt;fct&gt; | imitated_sound &lt;fct&gt; | rated_sound &lt;fct&gt; | rating &lt;dbl&gt; | distance_mfcc &lt;dbl&gt; | distance_square.1 &lt;dbl&gt; | distance_square.2 &lt;dbl&gt; | distance_square.3 &lt;dbl&gt; | distance_tall.1 &lt;dbl&gt; | distance_tall.2 &lt;dbl&gt; | distance_tall.3 &lt;dbl&gt; | distance_tall.4 &lt;dbl&gt; | distance_wide.1 &lt;dbl&gt; | distance_wide.2 &lt;dbl&gt; | distance_wide.3 &lt;dbl&gt; | distance_wide.4 &lt;dbl&gt; | distance_mfcc_short &lt;dbl&gt; |\n",
       "|---|---|---|---|---|---|---|---|---|---|---|---|---|---|---|---|---|---|---|---|\n",
       "| 1 | 0 | 12 | 6 | 20 | 19 | 0.00 | 0.06332231 | 0.2087883 | 0.2192959 | 0.3276160 | 0.2418618 | 0.2502268 | 0.2480478 | 0.2704551 | 0.2052346 | 0.2473502 | 0.2273675 | 0.2164745 | 0.2937442 |\n",
       "| 2 | 1 | 12 | 6 | 20 | 18 | 0.00 | 0.09943612 | 0.1892278 | 0.2037417 | 0.2799401 | 0.2335096 | 0.2516639 | 0.2278006 | 0.2488989 | 0.1929450 | 0.2389742 | 0.2006590 | 0.1944595 | 0.2829110 |\n",
       "| 3 | 2 | 12 | 6 | 20 | 21 | 0.41 | 0.14185922 | 0.5562489 | 0.6218457 | 0.6495880 | 0.5950477 | 0.5747121 | 0.5116193 | 0.5324236 | 0.5987752 | 0.6204424 | 0.6126037 | 0.5143839 | 0.1958800 |\n",
       "| 4 | 3 | 12 | 6 | 20 | 20 | 0.40 | 0.41093785 | 0.3207782 | 0.3261316 | 0.3998655 | 0.3684330 | 0.3790807 | 0.3512518 | 0.3725511 | 0.3443145 | 0.3714650 | 0.3745479 | 0.3561645 | 0.4982607 |\n",
       "| 5 | 4 | 12 | 6 | 20 | 23 | 0.00 | 0.36282176 | 0.5641272 | 0.6378974 | 0.7255492 | 0.6183479 | 0.6544065 | 0.5800459 | 0.6344287 | 0.6349404 | 0.6600428 | 0.6554899 | 0.5932593 | 0.2622058 |\n",
       "| 6 | 5 | 12 | 6 | 20 | 22 | 0.55 | 0.37178692 | 0.5188829 | 0.5670232 | 0.6312122 | 0.5561374 | 0.5567452 | 0.5058479 | 0.5446006 | 0.5628097 | 0.6201336 | 0.6212298 | 0.5188746 | 0.2710403 |\n",
       "\n"
      ],
      "text/plain": [
       "  X listener imitator imitated_sound rated_sound rating distance_mfcc\n",
       "1 0 12       6        20             19          0.00   0.06332231   \n",
       "2 1 12       6        20             18          0.00   0.09943612   \n",
       "3 2 12       6        20             21          0.41   0.14185922   \n",
       "4 3 12       6        20             20          0.40   0.41093785   \n",
       "5 4 12       6        20             23          0.00   0.36282176   \n",
       "6 5 12       6        20             22          0.55   0.37178692   \n",
       "  distance_square.1 distance_square.2 distance_square.3 distance_tall.1\n",
       "1 0.2087883         0.2192959         0.3276160         0.2418618      \n",
       "2 0.1892278         0.2037417         0.2799401         0.2335096      \n",
       "3 0.5562489         0.6218457         0.6495880         0.5950477      \n",
       "4 0.3207782         0.3261316         0.3998655         0.3684330      \n",
       "5 0.5641272         0.6378974         0.7255492         0.6183479      \n",
       "6 0.5188829         0.5670232         0.6312122         0.5561374      \n",
       "  distance_tall.2 distance_tall.3 distance_tall.4 distance_wide.1\n",
       "1 0.2502268       0.2480478       0.2704551       0.2052346      \n",
       "2 0.2516639       0.2278006       0.2488989       0.1929450      \n",
       "3 0.5747121       0.5116193       0.5324236       0.5987752      \n",
       "4 0.3790807       0.3512518       0.3725511       0.3443145      \n",
       "5 0.6544065       0.5800459       0.6344287       0.6349404      \n",
       "6 0.5567452       0.5058479       0.5446006       0.5628097      \n",
       "  distance_wide.2 distance_wide.3 distance_wide.4 distance_mfcc_short\n",
       "1 0.2473502       0.2273675       0.2164745       0.2937442          \n",
       "2 0.2389742       0.2006590       0.1944595       0.2829110          \n",
       "3 0.6204424       0.6126037       0.5143839       0.1958800          \n",
       "4 0.3714650       0.3745479       0.3561645       0.4982607          \n",
       "5 0.6600428       0.6554899       0.5932593       0.2622058          \n",
       "6 0.6201336       0.6212298       0.5188746       0.2710403          "
      ]
     },
     "metadata": {},
     "output_type": "display_data"
    }
   ],
   "source": [
    "dat <- read.csv('../data/mehrabi-eval/data/analysed_data_final_bark.csv')\n",
    "dat$imitator <- as.factor(dat$imitator)\n",
    "dat$listener <- as.factor(dat$listener)\n",
    "dat$imitated_sound <- as.factor(dat$imitated_sound)\n",
    "dat$rated_sound <- as.factor(dat$rated_sound)\n",
    "dat$rating <- as.double(dat$rating) / 100\n",
    "head(dat)"
   ]
  },
  {
   "cell_type": "code",
   "execution_count": 141,
   "metadata": {},
   "outputs": [
    {
     "name": "stdout",
     "output_type": "stream",
     "text": [
      "'data.frame':\t13 obs. of  3 variables:\n",
      " $ name    : Factor w/ 13 levels \"distance_mfcc\",..: 1 3 4 5 6 7 8 9 10 11 ...\n",
      " $ AIC     : num  0 0 0 0 0 0 0 0 0 0 ...\n",
      " $ Accuracy: num  0 0 0 0 0 0 0 0 0 0 ...\n"
     ]
    }
   ],
   "source": [
    "cols <- colnames(dat) %>% keep(~ startsWith(., \"distance\"))\n",
    "df <- data.frame(name=cols, AIC=double(13), Accuracy=double(13))\n",
    "str(df)"
   ]
  },
  {
   "cell_type": "code",
   "execution_count": 148,
   "metadata": {},
   "outputs": [],
   "source": [
    "for (col in cols) {\n",
    "    formula <- substitute(rating ~ 0 + imitated_sound + (imitated_sound:dist) + (1 | listener), list(dist = as.name(col)))\n",
    "    #formula <- substitute(rating ~ imitated_sound*dist + (1 | listener), list(dist = as.name(col)))\n",
    "    model <- lmer(formula, dat, REML=FALSE)\n",
    "    aic <- extractAIC(model)\n",
    "    df[df$name == col, 2] <- aic[2]\n",
    "    intervals <- confint(model, method=\"Wald\")\n",
    "    intervals <- intervals[33:62, \"97.5 %\"]\n",
    "    neg_intervals <- intervals %>% keep(~ .x < 0.0)\n",
    "    df[df$name == col, 3] <- length(neg_intervals) / length(intervals)\n",
    "}"
   ]
  },
  {
   "cell_type": "code",
   "execution_count": 149,
   "metadata": {},
   "outputs": [
    {
     "data": {
      "text/html": [
       "<table>\n",
       "<caption>A data.frame: 13 × 3</caption>\n",
       "<thead>\n",
       "\t<tr><th scope=col>name</th><th scope=col>AIC</th><th scope=col>Accuracy</th></tr>\n",
       "\t<tr><th scope=col>&lt;fct&gt;</th><th scope=col>&lt;dbl&gt;</th><th scope=col>&lt;dbl&gt;</th></tr>\n",
       "</thead>\n",
       "<tbody>\n",
       "\t<tr><td>distance_mfcc      </td><td>1544.808274</td><td>0.3000000</td></tr>\n",
       "\t<tr><td>distance_square.1  </td><td>  63.357831</td><td>0.9000000</td></tr>\n",
       "\t<tr><td>distance_square.2  </td><td>  14.535779</td><td>0.9000000</td></tr>\n",
       "\t<tr><td>distance_square.3  </td><td> -32.434946</td><td>0.9000000</td></tr>\n",
       "\t<tr><td>distance_tall.1    </td><td>-110.309544</td><td>0.9000000</td></tr>\n",
       "\t<tr><td>distance_tall.2    </td><td>  -6.393861</td><td>0.8666667</td></tr>\n",
       "\t<tr><td>distance_tall.3    </td><td> 118.805262</td><td>0.8333333</td></tr>\n",
       "\t<tr><td>distance_tall.4    </td><td>  23.541077</td><td>0.8333333</td></tr>\n",
       "\t<tr><td>distance_wide.1    </td><td> -50.146008</td><td>0.9000000</td></tr>\n",
       "\t<tr><td>distance_wide.2    </td><td>  26.305501</td><td>0.9000000</td></tr>\n",
       "\t<tr><td>distance_wide.3    </td><td>  70.831400</td><td>0.8000000</td></tr>\n",
       "\t<tr><td>distance_wide.4    </td><td>  18.681042</td><td>0.8000000</td></tr>\n",
       "\t<tr><td>distance_mfcc_short</td><td>1259.065527</td><td>0.6666667</td></tr>\n",
       "</tbody>\n",
       "</table>\n"
      ],
      "text/latex": [
       "A data.frame: 13 × 3\n",
       "\\begin{tabular}{lll}\n",
       " name & AIC & Accuracy\\\\\n",
       " <fct> & <dbl> & <dbl>\\\\\n",
       "\\hline\n",
       "\t distance\\_mfcc       & 1544.808274 & 0.3000000\\\\\n",
       "\t distance\\_square.1   &   63.357831 & 0.9000000\\\\\n",
       "\t distance\\_square.2   &   14.535779 & 0.9000000\\\\\n",
       "\t distance\\_square.3   &  -32.434946 & 0.9000000\\\\\n",
       "\t distance\\_tall.1     & -110.309544 & 0.9000000\\\\\n",
       "\t distance\\_tall.2     &   -6.393861 & 0.8666667\\\\\n",
       "\t distance\\_tall.3     &  118.805262 & 0.8333333\\\\\n",
       "\t distance\\_tall.4     &   23.541077 & 0.8333333\\\\\n",
       "\t distance\\_wide.1     &  -50.146008 & 0.9000000\\\\\n",
       "\t distance\\_wide.2     &   26.305501 & 0.9000000\\\\\n",
       "\t distance\\_wide.3     &   70.831400 & 0.8000000\\\\\n",
       "\t distance\\_wide.4     &   18.681042 & 0.8000000\\\\\n",
       "\t distance\\_mfcc\\_short & 1259.065527 & 0.6666667\\\\\n",
       "\\end{tabular}\n"
      ],
      "text/markdown": [
       "\n",
       "A data.frame: 13 × 3\n",
       "\n",
       "| name &lt;fct&gt; | AIC &lt;dbl&gt; | Accuracy &lt;dbl&gt; |\n",
       "|---|---|---|\n",
       "| distance_mfcc       | 1544.808274 | 0.3000000 |\n",
       "| distance_square.1   |   63.357831 | 0.9000000 |\n",
       "| distance_square.2   |   14.535779 | 0.9000000 |\n",
       "| distance_square.3   |  -32.434946 | 0.9000000 |\n",
       "| distance_tall.1     | -110.309544 | 0.9000000 |\n",
       "| distance_tall.2     |   -6.393861 | 0.8666667 |\n",
       "| distance_tall.3     |  118.805262 | 0.8333333 |\n",
       "| distance_tall.4     |   23.541077 | 0.8333333 |\n",
       "| distance_wide.1     |  -50.146008 | 0.9000000 |\n",
       "| distance_wide.2     |   26.305501 | 0.9000000 |\n",
       "| distance_wide.3     |   70.831400 | 0.8000000 |\n",
       "| distance_wide.4     |   18.681042 | 0.8000000 |\n",
       "| distance_mfcc_short | 1259.065527 | 0.6666667 |\n",
       "\n"
      ],
      "text/plain": [
       "   name                AIC         Accuracy \n",
       "1  distance_mfcc       1544.808274 0.3000000\n",
       "2  distance_square.1     63.357831 0.9000000\n",
       "3  distance_square.2     14.535779 0.9000000\n",
       "4  distance_square.3    -32.434946 0.9000000\n",
       "5  distance_tall.1     -110.309544 0.9000000\n",
       "6  distance_tall.2       -6.393861 0.8666667\n",
       "7  distance_tall.3      118.805262 0.8333333\n",
       "8  distance_tall.4       23.541077 0.8333333\n",
       "9  distance_wide.1      -50.146008 0.9000000\n",
       "10 distance_wide.2       26.305501 0.9000000\n",
       "11 distance_wide.3       70.831400 0.8000000\n",
       "12 distance_wide.4       18.681042 0.8000000\n",
       "13 distance_mfcc_short 1259.065527 0.6666667"
      ]
     },
     "metadata": {},
     "output_type": "display_data"
    }
   ],
   "source": [
    "df"
   ]
  },
  {
   "cell_type": "code",
   "execution_count": null,
   "metadata": {},
   "outputs": [],
   "source": []
  }
 ],
 "metadata": {
  "kernelspec": {
   "display_name": "R",
   "language": "R",
   "name": "ir"
  },
  "language_info": {
   "codemirror_mode": "r",
   "file_extension": ".r",
   "mimetype": "text/x-r-source",
   "name": "R",
   "pygments_lexer": "r",
   "version": "3.6.3"
  }
 },
 "nbformat": 4,
 "nbformat_minor": 4
}
