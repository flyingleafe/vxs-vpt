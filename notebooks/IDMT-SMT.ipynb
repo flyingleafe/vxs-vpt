{
 "cells": [
  {
   "cell_type": "code",
   "execution_count": 71,
   "metadata": {},
   "outputs": [
    {
     "name": "stdout",
     "output_type": "stream",
     "text": [
      "The autoreload extension is already loaded. To reload it, use:\n",
      "  %reload_ext autoreload\n"
     ]
    }
   ],
   "source": [
    "%matplotlib inline\n",
    "%load_ext autoreload\n",
    "%autoreload 2\n",
    "\n",
    "import numpy as np\n",
    "import pandas as pd\n",
    "import glob\n",
    "\n",
    "\n",
    "from pathlib import PurePath\n",
    "from IPython import display\n",
    "import pickle\n",
    "\n",
    "import vxs\n",
    "import vxs.utils as vxsu"
   ]
  },
  {
   "cell_type": "code",
   "execution_count": 48,
   "metadata": {},
   "outputs": [],
   "source": [
    "idmt_smt_train = vxs.SampleSet('../data/idmt-smt-drums/audio/*HH#train.wav', wave_only=True)"
   ]
  },
  {
   "cell_type": "code",
   "execution_count": 49,
   "metadata": {},
   "outputs": [
    {
     "data": {
      "text/plain": [
       "95"
      ]
     },
     "execution_count": 49,
     "metadata": {},
     "output_type": "execute_result"
    }
   ],
   "source": [
    "len(idmt_smt_train)"
   ]
  },
  {
   "cell_type": "code",
   "execution_count": 61,
   "metadata": {
    "scrolled": true
   },
   "outputs": [
    {
     "name": "stdout",
     "output_type": "stream",
     "text": [
      "0 ../data/idmt-smt-drums/audio/WaveDrum02_53#HH#train.wav\n",
      "1 ../data/idmt-smt-drums/audio/WaveDrum02_28#HH#train.wav\n",
      "2 ../data/idmt-smt-drums/audio/RealDrum01_12#HH#train.wav\n",
      "3 ../data/idmt-smt-drums/audio/WaveDrum02_01#HH#train.wav\n",
      "4 ../data/idmt-smt-drums/audio/WaveDrum02_36#HH#train.wav\n",
      "5 ../data/idmt-smt-drums/audio/TechnoDrum02_00#HH#train.wav\n",
      "6 ../data/idmt-smt-drums/audio/WaveDrum02_29#HH#train.wav\n",
      "7 ../data/idmt-smt-drums/audio/RealDrum01_04#HH#train.wav\n",
      "8 ../data/idmt-smt-drums/audio/WaveDrum02_34#HH#train.wav\n",
      "9 ../data/idmt-smt-drums/audio/RealDrum01_05#HH#train.wav\n",
      "10 ../data/idmt-smt-drums/audio/WaveDrum02_57#HH#train.wav\n",
      "11 ../data/idmt-smt-drums/audio/WaveDrum02_40#HH#train.wav\n",
      "12 ../data/idmt-smt-drums/audio/WaveDrum02_39#HH#train.wav\n",
      "13 ../data/idmt-smt-drums/audio/WaveDrum02_37#HH#train.wav\n",
      "14 ../data/idmt-smt-drums/audio/WaveDrum01_00#HH#train.wav\n",
      "15 ../data/idmt-smt-drums/audio/WaveDrum02_20#HH#train.wav\n",
      "16 ../data/idmt-smt-drums/audio/TechnoDrum01_07#HH#train.wav\n",
      "17 ../data/idmt-smt-drums/audio/WaveDrum02_15#HH#train.wav\n",
      "18 ../data/idmt-smt-drums/audio/WaveDrum02_02#HH#train.wav\n",
      "19 ../data/idmt-smt-drums/audio/WaveDrum02_30#HH#train.wav\n",
      "20 ../data/idmt-smt-drums/audio/WaveDrum02_05#HH#train.wav\n",
      "21 ../data/idmt-smt-drums/audio/WaveDrum01_03#HH#train.wav\n",
      "22 ../data/idmt-smt-drums/audio/RealDrum01_06#HH#train.wav\n",
      "23 ../data/idmt-smt-drums/audio/RealDrum01_08#HH#train.wav\n",
      "24 ../data/idmt-smt-drums/audio/WaveDrum01_06#HH#train.wav\n",
      "25 ../data/idmt-smt-drums/audio/RealDrum01_02#HH#train.wav\n",
      "26 ../data/idmt-smt-drums/audio/WaveDrum02_38#HH#train.wav\n",
      "27 ../data/idmt-smt-drums/audio/WaveDrum02_11#HH#train.wav\n",
      "28 ../data/idmt-smt-drums/audio/WaveDrum02_07#HH#train.wav\n",
      "29 ../data/idmt-smt-drums/audio/RealDrum01_00#HH#train.wav\n",
      "30 ../data/idmt-smt-drums/audio/WaveDrum02_32#HH#train.wav\n",
      "31 ../data/idmt-smt-drums/audio/RealDrum01_01#HH#train.wav\n",
      "32 ../data/idmt-smt-drums/audio/WaveDrum01_01#HH#train.wav\n",
      "33 ../data/idmt-smt-drums/audio/RealDrum01_03#HH#train.wav\n",
      "34 ../data/idmt-smt-drums/audio/WaveDrum02_52#HH#train.wav\n",
      "35 ../data/idmt-smt-drums/audio/TechnoDrum01_00#HH#train.wav\n",
      "36 ../data/idmt-smt-drums/audio/WaveDrum02_25#HH#train.wav\n",
      "37 ../data/idmt-smt-drums/audio/WaveDrum01_05#HH#train.wav\n",
      "38 ../data/idmt-smt-drums/audio/WaveDrum02_19#HH#train.wav\n",
      "39 ../data/idmt-smt-drums/audio/WaveDrum01_09#HH#train.wav\n",
      "40 ../data/idmt-smt-drums/audio/WaveDrum02_59#HH#train.wav\n",
      "41 ../data/idmt-smt-drums/audio/WaveDrum02_33#HH#train.wav\n",
      "42 ../data/idmt-smt-drums/audio/WaveDrum02_42#HH#train.wav\n",
      "43 ../data/idmt-smt-drums/audio/WaveDrum02_35#HH#train.wav\n",
      "44 ../data/idmt-smt-drums/audio/WaveDrum02_21#HH#train.wav\n",
      "45 ../data/idmt-smt-drums/audio/WaveDrum02_41#HH#train.wav\n",
      "46 ../data/idmt-smt-drums/audio/WaveDrum02_12#HH#train.wav\n",
      "47 ../data/idmt-smt-drums/audio/TechnoDrum01_02#HH#train.wav\n",
      "48 ../data/idmt-smt-drums/audio/WaveDrum02_23#HH#train.wav\n",
      "49 ../data/idmt-smt-drums/audio/RealDrum01_09#HH#train.wav\n",
      "50 ../data/idmt-smt-drums/audio/WaveDrum02_27#HH#train.wav\n",
      "51 ../data/idmt-smt-drums/audio/WaveDrum02_45#HH#train.wav\n",
      "52 ../data/idmt-smt-drums/audio/WaveDrum02_26#HH#train.wav\n",
      "53 ../data/idmt-smt-drums/audio/RealDrum01_10#HH#train.wav\n",
      "54 ../data/idmt-smt-drums/audio/WaveDrum02_49#HH#train.wav\n",
      "55 ../data/idmt-smt-drums/audio/WaveDrum02_56#HH#train.wav\n",
      "56 ../data/idmt-smt-drums/audio/WaveDrum02_44#HH#train.wav\n",
      "57 ../data/idmt-smt-drums/audio/WaveDrum01_04#HH#train.wav\n",
      "58 ../data/idmt-smt-drums/audio/WaveDrum02_43#HH#train.wav\n",
      "59 ../data/idmt-smt-drums/audio/TechnoDrum01_08#HH#train.wav\n",
      "60 ../data/idmt-smt-drums/audio/WaveDrum02_10#HH#train.wav\n",
      "61 ../data/idmt-smt-drums/audio/WaveDrum02_03#HH#train.wav\n",
      "62 ../data/idmt-smt-drums/audio/WaveDrum02_09#HH#train.wav\n",
      "63 ../data/idmt-smt-drums/audio/RealDrum01_07#HH#train.wav\n",
      "64 ../data/idmt-smt-drums/audio/WaveDrum01_07#HH#train.wav\n",
      "65 ../data/idmt-smt-drums/audio/WaveDrum02_06#HH#train.wav\n",
      "66 ../data/idmt-smt-drums/audio/WaveDrum02_04#HH#train.wav\n",
      "67 ../data/idmt-smt-drums/audio/WaveDrum02_16#HH#train.wav\n",
      "68 ../data/idmt-smt-drums/audio/WaveDrum02_60#HH#train.wav\n",
      "69 ../data/idmt-smt-drums/audio/TechnoDrum01_05#HH#train.wav\n",
      "70 ../data/idmt-smt-drums/audio/WaveDrum02_48#HH#train.wav\n",
      "71 ../data/idmt-smt-drums/audio/WaveDrum02_55#HH#train.wav\n",
      "72 ../data/idmt-smt-drums/audio/WaveDrum02_14#HH#train.wav\n",
      "73 ../data/idmt-smt-drums/audio/WaveDrum02_08#HH#train.wav\n",
      "74 ../data/idmt-smt-drums/audio/WaveDrum02_18#HH#train.wav\n",
      "75 ../data/idmt-smt-drums/audio/TechnoDrum01_03#HH#train.wav\n",
      "76 ../data/idmt-smt-drums/audio/WaveDrum02_47#HH#train.wav\n",
      "77 ../data/idmt-smt-drums/audio/RealDrum01_11#HH#train.wav\n",
      "78 ../data/idmt-smt-drums/audio/WaveDrum02_22#HH#train.wav\n",
      "79 ../data/idmt-smt-drums/audio/WaveDrum02_46#HH#train.wav\n",
      "80 ../data/idmt-smt-drums/audio/WaveDrum02_50#HH#train.wav\n",
      "81 ../data/idmt-smt-drums/audio/TechnoDrum01_01#HH#train.wav\n",
      "82 ../data/idmt-smt-drums/audio/WaveDrum02_24#HH#train.wav\n",
      "83 ../data/idmt-smt-drums/audio/WaveDrum02_51#HH#train.wav\n",
      "84 ../data/idmt-smt-drums/audio/TechnoDrum01_09#HH#train.wav\n",
      "85 ../data/idmt-smt-drums/audio/RealDrum01_13#HH#train.wav\n",
      "86 ../data/idmt-smt-drums/audio/TechnoDrum01_04#HH#train.wav\n",
      "87 ../data/idmt-smt-drums/audio/WaveDrum02_54#HH#train.wav\n",
      "88 ../data/idmt-smt-drums/audio/WaveDrum02_13#HH#train.wav\n",
      "89 ../data/idmt-smt-drums/audio/WaveDrum01_08#HH#train.wav\n",
      "90 ../data/idmt-smt-drums/audio/WaveDrum01_02#HH#train.wav\n",
      "91 ../data/idmt-smt-drums/audio/WaveDrum02_58#HH#train.wav\n",
      "92 ../data/idmt-smt-drums/audio/WaveDrum02_31#HH#train.wav\n",
      "93 ../data/idmt-smt-drums/audio/WaveDrum02_17#HH#train.wav\n",
      "94 ../data/idmt-smt-drums/audio/TechnoDrum01_06#HH#train.wav\n"
     ]
    }
   ],
   "source": [
    "for i in range(len(idmt_smt_train)):\n",
    "    print(i, idmt_smt_train[i].filepath)"
   ]
  },
  {
   "cell_type": "code",
   "execution_count": 57,
   "metadata": {},
   "outputs": [],
   "source": [
    "hh_class_marks = {}"
   ]
  },
  {
   "cell_type": "code",
   "execution_count": 440,
   "metadata": {},
   "outputs": [
    {
     "ename": "IndexError",
     "evalue": "list index out of range",
     "output_type": "error",
     "traceback": [
      "\u001b[0;31m---------------------------------------------------------------------------\u001b[0m",
      "\u001b[0;31mIndexError\u001b[0m                                Traceback (most recent call last)",
      "\u001b[0;32m<ipython-input-440-e321ac08933c>\u001b[0m in \u001b[0;36m<module>\u001b[0;34m\u001b[0m\n\u001b[1;32m      1\u001b[0m \u001b[0mindex\u001b[0m \u001b[0;34m=\u001b[0m \u001b[0;36m95\u001b[0m\u001b[0;34m\u001b[0m\u001b[0;34m\u001b[0m\u001b[0m\n\u001b[0;32m----> 2\u001b[0;31m \u001b[0mvxsu\u001b[0m\u001b[0;34m.\u001b[0m\u001b[0mdisplay_track\u001b[0m\u001b[0;34m(\u001b[0m\u001b[0midmt_smt_train\u001b[0m\u001b[0;34m[\u001b[0m\u001b[0mindex\u001b[0m\u001b[0;34m]\u001b[0m\u001b[0;34m)\u001b[0m\u001b[0;34m\u001b[0m\u001b[0;34m\u001b[0m\u001b[0m\n\u001b[0m",
      "\u001b[0;32m~/vxs-vpt/src/vxs/dataset.py\u001b[0m in \u001b[0;36m__getitem__\u001b[0;34m(self, index)\u001b[0m\n\u001b[1;32m    114\u001b[0m \u001b[0;34m\u001b[0m\u001b[0m\n\u001b[1;32m    115\u001b[0m         \u001b[0;32mif\u001b[0m \u001b[0mself\u001b[0m\u001b[0;34m.\u001b[0m\u001b[0mtracks\u001b[0m \u001b[0;32mis\u001b[0m \u001b[0;32mNone\u001b[0m\u001b[0;34m:\u001b[0m\u001b[0;34m\u001b[0m\u001b[0;34m\u001b[0m\u001b[0m\n\u001b[0;32m--> 116\u001b[0;31m             \u001b[0mtrack\u001b[0m \u001b[0;34m=\u001b[0m \u001b[0mTrack\u001b[0m\u001b[0;34m(\u001b[0m\u001b[0mself\u001b[0m\u001b[0;34m.\u001b[0m\u001b[0mfilenames\u001b[0m\u001b[0;34m[\u001b[0m\u001b[0mindex\u001b[0m\u001b[0;34m]\u001b[0m\u001b[0;34m)\u001b[0m\u001b[0;34m\u001b[0m\u001b[0;34m\u001b[0m\u001b[0m\n\u001b[0m\u001b[1;32m    117\u001b[0m         \u001b[0;32melse\u001b[0m\u001b[0;34m:\u001b[0m\u001b[0;34m\u001b[0m\u001b[0;34m\u001b[0m\u001b[0m\n\u001b[1;32m    118\u001b[0m             \u001b[0mtrack\u001b[0m \u001b[0;34m=\u001b[0m \u001b[0mself\u001b[0m\u001b[0;34m.\u001b[0m\u001b[0mtracks\u001b[0m\u001b[0;34m[\u001b[0m\u001b[0mindex\u001b[0m\u001b[0;34m]\u001b[0m\u001b[0;34m\u001b[0m\u001b[0;34m\u001b[0m\u001b[0m\n",
      "\u001b[0;31mIndexError\u001b[0m: list index out of range"
     ]
    }
   ],
   "source": [
    "index = 95\n",
    "vxsu.display_track(idmt_smt_train[index])"
   ]
  },
  {
   "cell_type": "code",
   "execution_count": 437,
   "metadata": {},
   "outputs": [],
   "source": [
    "hh_class_marks[idmt_smt_train[index].filepath] = 'hhc'"
   ]
  },
  {
   "cell_type": "code",
   "execution_count": 438,
   "metadata": {},
   "outputs": [
    {
     "data": {
      "text/plain": [
       "{'../data/idmt-smt-drums/audio/WaveDrum02_53#HH#train.wav': 'hhc',\n",
       " '../data/idmt-smt-drums/audio/WaveDrum02_28#HH#train.wav': 'hhc',\n",
       " '../data/idmt-smt-drums/audio/RealDrum01_12#HH#train.wav': 'hho',\n",
       " '../data/idmt-smt-drums/audio/WaveDrum02_01#HH#train.wav': 'hho',\n",
       " '../data/idmt-smt-drums/audio/WaveDrum02_36#HH#train.wav': 'hhc',\n",
       " '../data/idmt-smt-drums/audio/TechnoDrum02_00#HH#train.wav': 'hhc',\n",
       " '../data/idmt-smt-drums/audio/WaveDrum02_29#HH#train.wav': 'hho',\n",
       " '../data/idmt-smt-drums/audio/RealDrum01_04#HH#train.wav': 'hho',\n",
       " '../data/idmt-smt-drums/audio/WaveDrum02_34#HH#train.wav': 'hhc',\n",
       " '../data/idmt-smt-drums/audio/RealDrum01_05#HH#train.wav': 'hhc',\n",
       " '../data/idmt-smt-drums/audio/WaveDrum02_57#HH#train.wav': 'hhc',\n",
       " '../data/idmt-smt-drums/audio/WaveDrum02_40#HH#train.wav': 'hhc',\n",
       " '../data/idmt-smt-drums/audio/WaveDrum02_39#HH#train.wav': 'hhc',\n",
       " '../data/idmt-smt-drums/audio/WaveDrum02_37#HH#train.wav': 'hhc',\n",
       " '../data/idmt-smt-drums/audio/WaveDrum01_00#HH#train.wav': 'hho',\n",
       " '../data/idmt-smt-drums/audio/WaveDrum02_20#HH#train.wav': 'hhc',\n",
       " '../data/idmt-smt-drums/audio/TechnoDrum01_07#HH#train.wav': 'hhc',\n",
       " '../data/idmt-smt-drums/audio/WaveDrum02_15#HH#train.wav': 'hho',\n",
       " '../data/idmt-smt-drums/audio/WaveDrum02_02#HH#train.wav': 'hho',\n",
       " '../data/idmt-smt-drums/audio/WaveDrum02_30#HH#train.wav': 'hhc',\n",
       " '../data/idmt-smt-drums/audio/WaveDrum02_05#HH#train.wav': 'hho',\n",
       " '../data/idmt-smt-drums/audio/WaveDrum01_03#HH#train.wav': 'hhc',\n",
       " '../data/idmt-smt-drums/audio/RealDrum01_06#HH#train.wav': 'hhc',\n",
       " '../data/idmt-smt-drums/audio/RealDrum01_08#HH#train.wav': 'hhc',\n",
       " '../data/idmt-smt-drums/audio/WaveDrum01_06#HH#train.wav': 'hho',\n",
       " '../data/idmt-smt-drums/audio/RealDrum01_02#HH#train.wav': 'hhc',\n",
       " '../data/idmt-smt-drums/audio/WaveDrum02_38#HH#train.wav': 'hhc',\n",
       " '../data/idmt-smt-drums/audio/WaveDrum02_11#HH#train.wav': 'hhc',\n",
       " '../data/idmt-smt-drums/audio/WaveDrum02_07#HH#train.wav': 'hho',\n",
       " '../data/idmt-smt-drums/audio/RealDrum01_00#HH#train.wav': 'hhc',\n",
       " '../data/idmt-smt-drums/audio/WaveDrum02_32#HH#train.wav': 'hhc',\n",
       " '../data/idmt-smt-drums/audio/RealDrum01_01#HH#train.wav': 'hhc',\n",
       " '../data/idmt-smt-drums/audio/WaveDrum01_01#HH#train.wav': 'hhc',\n",
       " '../data/idmt-smt-drums/audio/RealDrum01_03#HH#train.wav': 'hhc',\n",
       " '../data/idmt-smt-drums/audio/WaveDrum02_52#HH#train.wav': 'hho',\n",
       " '../data/idmt-smt-drums/audio/TechnoDrum01_00#HH#train.wav': 'hhc',\n",
       " '../data/idmt-smt-drums/audio/WaveDrum02_25#HH#train.wav': 'hhc',\n",
       " '../data/idmt-smt-drums/audio/WaveDrum01_05#HH#train.wav': 'hho',\n",
       " '../data/idmt-smt-drums/audio/WaveDrum02_19#HH#train.wav': 'hhc',\n",
       " '../data/idmt-smt-drums/audio/WaveDrum01_09#HH#train.wav': 'hho',\n",
       " '../data/idmt-smt-drums/audio/WaveDrum02_59#HH#train.wav': 'hho',\n",
       " '../data/idmt-smt-drums/audio/WaveDrum02_33#HH#train.wav': 'hhc',\n",
       " '../data/idmt-smt-drums/audio/WaveDrum02_42#HH#train.wav': 'hhc',\n",
       " '../data/idmt-smt-drums/audio/WaveDrum02_35#HH#train.wav': 'hhc',\n",
       " '../data/idmt-smt-drums/audio/WaveDrum02_21#HH#train.wav': 'hhc',\n",
       " '../data/idmt-smt-drums/audio/WaveDrum02_41#HH#train.wav': 'hhc',\n",
       " '../data/idmt-smt-drums/audio/WaveDrum02_12#HH#train.wav': 'hhc',\n",
       " '../data/idmt-smt-drums/audio/TechnoDrum01_02#HH#train.wav': 'hhc',\n",
       " '../data/idmt-smt-drums/audio/WaveDrum02_23#HH#train.wav': 'hhc',\n",
       " '../data/idmt-smt-drums/audio/RealDrum01_09#HH#train.wav': 'hho',\n",
       " '../data/idmt-smt-drums/audio/WaveDrum02_27#HH#train.wav': 'hho',\n",
       " '../data/idmt-smt-drums/audio/WaveDrum02_45#HH#train.wav': 'hhc',\n",
       " '../data/idmt-smt-drums/audio/WaveDrum02_26#HH#train.wav': 'hhc',\n",
       " '../data/idmt-smt-drums/audio/RealDrum01_10#HH#train.wav': 'hho',\n",
       " '../data/idmt-smt-drums/audio/WaveDrum02_49#HH#train.wav': 'hhc',\n",
       " '../data/idmt-smt-drums/audio/WaveDrum02_56#HH#train.wav': 'hho',\n",
       " '../data/idmt-smt-drums/audio/WaveDrum02_44#HH#train.wav': 'hhc',\n",
       " '../data/idmt-smt-drums/audio/WaveDrum01_04#HH#train.wav': 'hhc',\n",
       " '../data/idmt-smt-drums/audio/WaveDrum02_43#HH#train.wav': 'hhc',\n",
       " '../data/idmt-smt-drums/audio/TechnoDrum01_08#HH#train.wav': 'hhc',\n",
       " '../data/idmt-smt-drums/audio/WaveDrum02_10#HH#train.wav': 'hhc',\n",
       " '../data/idmt-smt-drums/audio/WaveDrum02_03#HH#train.wav': 'hhc',\n",
       " '../data/idmt-smt-drums/audio/WaveDrum02_09#HH#train.wav': 'hho',\n",
       " '../data/idmt-smt-drums/audio/RealDrum01_07#HH#train.wav': 'hhc',\n",
       " '../data/idmt-smt-drums/audio/WaveDrum01_07#HH#train.wav': 'hhc',\n",
       " '../data/idmt-smt-drums/audio/WaveDrum02_06#HH#train.wav': 'hho',\n",
       " '../data/idmt-smt-drums/audio/WaveDrum02_04#HH#train.wav': 'hhc',\n",
       " '../data/idmt-smt-drums/audio/WaveDrum02_16#HH#train.wav': 'hho',\n",
       " '../data/idmt-smt-drums/audio/WaveDrum02_60#HH#train.wav': 'hhco',\n",
       " '../data/idmt-smt-drums/audio/TechnoDrum01_05#HH#train.wav': 'hhc',\n",
       " '../data/idmt-smt-drums/audio/WaveDrum02_48#HH#train.wav': '???',\n",
       " '../data/idmt-smt-drums/audio/WaveDrum02_55#HH#train.wav': 'hhc0',\n",
       " '../data/idmt-smt-drums/audio/WaveDrum02_14#HH#train.wav': 'hho',\n",
       " '../data/idmt-smt-drums/audio/WaveDrum02_08#HH#train.wav': 'hho',\n",
       " '../data/idmt-smt-drums/audio/WaveDrum02_18#HH#train.wav': 'hho',\n",
       " '../data/idmt-smt-drums/audio/TechnoDrum01_03#HH#train.wav': 'hhc',\n",
       " '../data/idmt-smt-drums/audio/WaveDrum02_47#HH#train.wav': '???',\n",
       " '../data/idmt-smt-drums/audio/RealDrum01_11#HH#train.wav': 'hho',\n",
       " '../data/idmt-smt-drums/audio/WaveDrum02_22#HH#train.wav': 'hhc',\n",
       " '../data/idmt-smt-drums/audio/WaveDrum02_46#HH#train.wav': '???',\n",
       " '../data/idmt-smt-drums/audio/WaveDrum02_50#HH#train.wav': 'hhc',\n",
       " '../data/idmt-smt-drums/audio/TechnoDrum01_01#HH#train.wav': 'hhc',\n",
       " '../data/idmt-smt-drums/audio/WaveDrum02_24#HH#train.wav': 'hhc',\n",
       " '../data/idmt-smt-drums/audio/WaveDrum02_51#HH#train.wav': 'hhc',\n",
       " '../data/idmt-smt-drums/audio/TechnoDrum01_09#HH#train.wav': 'hhc',\n",
       " '../data/idmt-smt-drums/audio/RealDrum01_13#HH#train.wav': 'hhco',\n",
       " '../data/idmt-smt-drums/audio/TechnoDrum01_04#HH#train.wav': 'hhc',\n",
       " '../data/idmt-smt-drums/audio/WaveDrum02_54#HH#train.wav': 'hho',\n",
       " '../data/idmt-smt-drums/audio/WaveDrum02_13#HH#train.wav': 'hho',\n",
       " '../data/idmt-smt-drums/audio/WaveDrum01_08#HH#train.wav': 'hhc',\n",
       " '../data/idmt-smt-drums/audio/WaveDrum01_02#HH#train.wav': 'hhc',\n",
       " '../data/idmt-smt-drums/audio/WaveDrum02_58#HH#train.wav': 'hhco',\n",
       " '../data/idmt-smt-drums/audio/WaveDrum02_31#HH#train.wav': 'hhc',\n",
       " '../data/idmt-smt-drums/audio/WaveDrum02_17#HH#train.wav': 'hho',\n",
       " '../data/idmt-smt-drums/audio/TechnoDrum01_06#HH#train.wav': 'hhc'}"
      ]
     },
     "execution_count": 438,
     "metadata": {},
     "output_type": "execute_result"
    }
   ],
   "source": [
    "hh_class_marks"
   ]
  },
  {
   "cell_type": "code",
   "execution_count": 439,
   "metadata": {},
   "outputs": [],
   "source": [
    "with open('hh_class_marks.pickle', 'wb') as f:\n",
    "    pickle.dump(hh_class_marks, f, protocol=pickle.HIGHEST_PROTOCOL)"
   ]
  },
  {
   "cell_type": "code",
   "execution_count": 44,
   "metadata": {},
   "outputs": [
    {
     "data": {
      "image/png": "[encoded data removed]",
      "text/plain": [
       "<Figure size 1440x360 with 1 Axes>"
      ]
     },
     "metadata": {
      "needs_background": "light"
     },
     "output_type": "display_data"
    }
   ],
   "source": [
    "onsets = vxs.detect_onsets(idmt_smt_train[5], method='complex')\n",
    "vxsu.plot_track(idmt_smt_train[5], onsets=onsets)"
   ]
  },
  {
   "cell_type": "code",
   "execution_count": null,
   "metadata": {},
   "outputs": [],
   "source": []
  }
 ],
 "metadata": {
  "kernelspec": {
   "display_name": "Python 3",
   "language": "python",
   "name": "python3"
  },
  "language_info": {
   "codemirror_mode": {
    "name": "ipython",
    "version": 3
   },
   "file_extension": ".py",
   "mimetype": "text/x-python",
   "name": "python",
   "nbconvert_exporter": "python",
   "pygments_lexer": "ipython3",
   "version": "3.6.9"
  }
 },
 "nbformat": 4,
 "nbformat_minor": 4
}
