{
 "cells": [
  {
   "cell_type": "code",
   "execution_count": null,
   "metadata": {},
   "outputs": [],
   "source": [
    "import numpy as np\n",
    "import aubio\n",
    "import matplotlib.pyplot as plt\n",
    "import pandas as pd"
   ]
  },
  {
   "cell_type": "code",
   "execution_count": null,
   "metadata": {},
   "outputs": [],
   "source": [
    "DATASET_PREFIX = '../data/beatboxset1/'\n",
    "\n",
    "class Track:\n",
    "    def __init__(self, name):\n",
    "        \n",
    "\n",
    "def wav_to_array(source):\n",
    "    if type(source) == str:\n",
    "        with aubio.source(source) as s:\n",
    "            return wav_to_array(s)\n",
    "    elif type(source) == aubio.source:\n",
    "        res = aubio.fvec(source.duration)\n",
    "        total_read = 0\n",
    "        for sample in source:\n",
    "            m = sample.shape[0]\n",
    "            res[total_read:total_read+m] = sample\n",
    "            total_read += m\n",
    "        return res, source\n",
    "    \n",
    "def load_audio_with_onsets(path):\n",
    "    wav_array, source = wav_to_array(DATASET_PREFIX + path + '.wav')\n",
    "    onsets_DR = pd.read_csv(DATASET_PREFIX + 'Annotations_DR/' + path + '.csv', names=['time', 'class'])\n",
    "    onsets_HT = pd.read_csv(DATASET_PREFIX + 'Annotations_HT/' + path + '.csv', names=['time', 'class'])\n",
    "    return wav_array, source, onsets_DR, onsets_HT\n",
    "    \n",
    "def plot_audio(wav_array, duration_seconds, onsets=None):\n",
    "    fig = plt.figure(figsize=(20, 5))\n",
    "    plt.plot(np.linspace(0, duration_seconds, wav_array.shape[0]), wav_array)\n",
    "    if onsets is not None:\n",
    "        for (idx, row) in onsets.iterrows():\n",
    "            plt.axvline(x=row['time'], color='r')\n",
    "    plt.ylim((-2, 2))\n",
    "    plt.show()"
   ]
  },
  {
   "cell_type": "code",
   "execution_count": null,
   "metadata": {},
   "outputs": [],
   "source": [
    "bclip, bclip_source, onsets_DR, onsets_HT = load_audio_with_onsets('snare_hex')"
   ]
  },
  {
   "cell_type": "code",
   "execution_count": null,
   "metadata": {},
   "outputs": [],
   "source": [
    "duration_seconds = bclip_source.duration / bclip_source.samplerate\n",
    "duration_seconds"
   ]
  },
  {
   "cell_type": "code",
   "execution_count": null,
   "metadata": {},
   "outputs": [],
   "source": [
    "plot_audio(bclip, duration_seconds, onsets=onsets_DR)"
   ]
  },
  {
   "cell_type": "code",
   "execution_count": null,
   "metadata": {},
   "outputs": [],
   "source": [
    "plot_audio(bclip, duration_seconds, onsets=onsets_HT)"
   ]
  },
  {
   "cell_type": "code",
   "execution_count": null,
   "metadata": {},
   "outputs": [],
   "source": [
    "onset_detector = aubio.onset()"
   ]
  },
  {
   "cell_type": "code",
   "execution_count": null,
   "metadata": {},
   "outputs": [],
   "source": [
    "bclip_new = aubio.source(DATASET_PREFIX + 'snare_hex.wav')\n",
    "onsets_sec = []\n",
    "onsets = []\n",
    "for sample in bclip_new:\n",
    "    if len(sample) == 512 and onset_detector(sample):\n",
    "        onsets_sec.append(onset_detector.get_last_s())\n",
    "        onsets.append(onset_detector.get_last())\n",
    "\n",
    "classes = ['x']*len(onsets_sec)\n",
    "onsets_detected = pd.DataFrame.from_dict({'time': np.array(onsets_sec), 'class': classes})"
   ]
  },
  {
   "cell_type": "code",
   "execution_count": null,
   "metadata": {},
   "outputs": [],
   "source": [
    "bclip_new.duration, onsets_sec[-1]"
   ]
  },
  {
   "cell_type": "code",
   "execution_count": null,
   "metadata": {},
   "outputs": [],
   "source": [
    "plot_audio(bclip, duration_seconds, onsets=onsets_detected)"
   ]
  },
  {
   "cell_type": "code",
   "execution_count": null,
   "metadata": {},
   "outputs": [],
   "source": []
  }
 ],
 "metadata": {
  "kernelspec": {
   "display_name": "Python 3",
   "language": "python",
   "name": "python3"
  },
  "language_info": {
   "codemirror_mode": {
    "name": "ipython",
    "version": 3
   },
   "file_extension": ".py",
   "mimetype": "text/x-python",
   "name": "python",
   "nbconvert_exporter": "python",
   "pygments_lexer": "ipython3"
  }
 },
 "nbformat": 4,
 "nbformat_minor": 4
}
