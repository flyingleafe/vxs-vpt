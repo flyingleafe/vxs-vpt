{
 "cells": [
  {
   "cell_type": "code",
   "execution_count": null,
   "metadata": {},
   "outputs": [],
   "source": [
    "import numpy as np\n",
    "import aubio\n",
    "import matplotlib.pyplot as plt\n",
    "import pandas as pd\n",
    "import glob\n",
    "\n",
    "from IPython import display\n",
    "from pathlib import PurePath"
   ]
  },
  {
   "cell_type": "code",
   "execution_count": null,
   "metadata": {},
   "outputs": [],
   "source": [
    "DATASET_PREFIX = '../data/beatboxset1/'\n",
    "\n",
    "class Track:\n",
    "    \"\"\"\n",
    "    Abstracts out the audio track. Only mono tracks are supported currently.\n",
    "    \"\"\"\n",
    "    def __init__(self, source):\n",
    "        if type(source) == str:\n",
    "            source = aubio.source(source)\n",
    "        if source.channels > 1:\n",
    "            raise Exception('File {} has {} channels instead of 1'.format(source.uri, source.channels))\n",
    "        \n",
    "        self.n_samples = source.duration\n",
    "        self.rate = source.samplerate\n",
    "        self.duration = self.n_samples / self.rate\n",
    "        self.hop_size = source.hop_size\n",
    "        \n",
    "        self.wave = aubio.fvec(self.n_samples)\n",
    "        total_read = 0\n",
    "        for sample in source:\n",
    "            m = sample.shape[0]\n",
    "            self.wave[total_read:total_read+m] = sample\n",
    "            total_read += m\n",
    "            \n",
    "    def segment(self, start, duration):\n",
    "        return self.wave[int(start*self.rate):int((start+duration)*self.rate)]\n",
    "    \n",
    "def read_annotation(path):\n",
    "    return pd.read_csv(path, names=['time', 'class'])\n",
    "    \n",
    "def load_track_with_onsets(path):\n",
    "    track = Track(DATASET_PREFIX + path + '.wav')\n",
    "    onsets_DR = read_annotation(DATASET_PREFIX + 'Annotations_DR/' + path + '.csv')\n",
    "    onsets_HT = read_annotation(DATASET_PREFIX + 'Annotations_HT/' + path + '.csv')\n",
    "    return track, onsets_DR, onsets_HT\n",
    "    \n",
    "def detect_onsets(track, method):\n",
    "    onset_detector = aubio.onset(method=method)\n",
    "    hs = track.hop_size\n",
    "    N = track.n_samples // hs\n",
    "    onsets_sec = []\n",
    "    onsets = []\n",
    "    for i in range(N):\n",
    "        chunk = track.wave[i*hs:(i+1)*hs]\n",
    "        if onset_detector(chunk):\n",
    "            onsets_sec.append(onset_detector.get_last_s())\n",
    "            onsets.append(onset_detector.get_last())\n",
    "\n",
    "    classes = ['x']*len(onsets_sec)\n",
    "    onsets_detected = pd.DataFrame.from_dict({\n",
    "        'time': np.array(onsets_sec),\n",
    "        'frame': np.array(onsets),\n",
    "        'class': classes\n",
    "    })\n",
    "    return onsets_detected\n",
    "\n",
    "def onsets_F1_score(pred, target, ms_threshold=10, prec_rec=False):\n",
    "    thr = ms_threshold / 1000\n",
    "    i = 0\n",
    "    j = 0\n",
    "    tp = 0\n",
    "    fp = 0\n",
    "    fn = 0\n",
    "    while i < len(pred) or j < len(target):\n",
    "        if i >= len(pred):\n",
    "            fn += 1\n",
    "            j += 1\n",
    "        elif j >= len(target):\n",
    "            fp += 1\n",
    "            i += 1\n",
    "        elif pred[i] >= target[j] - thr and pred[i] <= target[j] + thr:\n",
    "            tp += 1\n",
    "            i += 1\n",
    "            j += 1\n",
    "        elif pred[i] < target[j] - thr:\n",
    "            fp += 1\n",
    "            i += 1\n",
    "        else:\n",
    "            fn += 1\n",
    "            j += 1\n",
    "    \n",
    "    precision = tp / (tp + fp)\n",
    "    recall = tp / (tp + fn)\n",
    "    f1 = 2 * precision * recall / (precision + recall)\n",
    "    \n",
    "    if prec_rec:\n",
    "        return f1, precision, recall\n",
    "    else:\n",
    "        return f1\n",
    "\n",
    "plt.rcParams.update({'font.size': 16})    \n",
    "\n",
    "def plot_track(track, onsets=None, event_type=None, title=None, return_events=False):\n",
    "    fig = plt.figure(figsize=(20, 5))\n",
    "    plt.plot(np.linspace(0, track.duration, track.n_samples), track.wave)\n",
    "    \n",
    "    events = []\n",
    "    if onsets is not None:\n",
    "        for (idx, row) in onsets.iterrows():\n",
    "            if event_type is None or row['class'] == event_type:\n",
    "                events.append(row['time'])\n",
    "                plt.axvline(x=row['time'], color='r')\n",
    "                \n",
    "    plt.ylim((-1.5, 1.5))\n",
    "    plt.xlabel('Time, seconds')\n",
    "    plt.ylabel('Signal amplitude')\n",
    "    if title is not None:\n",
    "        plt.title(title)\n",
    "    plt.show()\n",
    "    \n",
    "    if return_events:\n",
    "        return events"
   ]
  },
  {
   "cell_type": "code",
   "execution_count": null,
   "metadata": {},
   "outputs": [],
   "source": [
    "track_sh, onsets_DR, onsets_HT = load_track_with_onsets('snare_hex')"
   ]
  },
  {
   "cell_type": "code",
   "execution_count": null,
   "metadata": {},
   "outputs": [],
   "source": [
    "kick_events = plot_track(track_sh, onsets=onsets_DR, event_type='k', title='Ground truth (variant #1)', return_events=True)"
   ]
  },
  {
   "cell_type": "code",
   "execution_count": null,
   "metadata": {},
   "outputs": [],
   "source": [
    "segm = track_sh.segment(kick_events[2], 2)"
   ]
  },
  {
   "cell_type": "code",
   "execution_count": null,
   "metadata": {},
   "outputs": [],
   "source": [
    "fig = plt.figure(figsize=(5,2))\n",
    "plt.plot(np.arange(len(segm)), segm)"
   ]
  },
  {
   "cell_type": "code",
   "execution_count": null,
   "metadata": {},
   "outputs": [],
   "source": [
    "_ = plt.specgram(segm, Fs=2)"
   ]
  },
  {
   "cell_type": "code",
   "execution_count": null,
   "metadata": {},
   "outputs": [],
   "source": [
    "fig = plt.figure(figsize=(17,4))\n",
    "_ = plt.specgram(track_sh.wave, Fs=2)"
   ]
  },
  {
   "cell_type": "code",
   "execution_count": null,
   "metadata": {},
   "outputs": [],
   "source": [
    "plot_track(track_sh, onsets=onsets_HT, title='Ground truth (variant #2)')"
   ]
  },
  {
   "cell_type": "code",
   "execution_count": null,
   "metadata": {},
   "outputs": [],
   "source": [
    "onsets_detected_hfc = detect_onsets(track_sh, method='hfc')\n",
    "plot_track(track_sh, onsets=onsets_detected_hfc, title='Detected onsets (method=HFC)')"
   ]
  },
  {
   "cell_type": "code",
   "execution_count": null,
   "metadata": {},
   "outputs": [],
   "source": [
    "onsets_detected_cp = detect_onsets(track_sh, method='complex')\n",
    "plot_track(track_sh, onsets=onsets_detected_cp, title='Detected onsets (method=Complex)')"
   ]
  },
  {
   "cell_type": "code",
   "execution_count": null,
   "metadata": {},
   "outputs": [],
   "source": [
    "onsets_F1_score(onsets_DR['time'].values, onsets_detected_hfc['time'], ms_threshold=10)"
   ]
  },
  {
   "cell_type": "code",
   "execution_count": null,
   "metadata": {},
   "outputs": [],
   "source": [
    "bbs_files = [PurePath(path).stem for path in glob.glob(DATASET_PREFIX + '*.wav')]\n",
    "bbs_files.remove('putfile_dbztenkaichi')\n",
    "bbs_files.remove('callout_Pneumatic')\n",
    "bbs_files.remove('putfile_vonny')\n",
    "bbs_files.remove('putfile_pepouni')\n",
    "bbs_files"
   ]
  },
  {
   "cell_type": "code",
   "execution_count": null,
   "metadata": {},
   "outputs": [],
   "source": [
    "scores = pd.DataFrame(columns=[\n",
    "    'track',\n",
    "    'DR_HFC_F1', 'DR_HFC_prec', 'DR_HFC_rec',\n",
    "    'DR_Complex_F1', 'DR_Complex_prec', 'DR_Complex_rec',\n",
    "    'HT_HFC_F1', 'HT_HFC_prec', 'HT_HFC_rec',\n",
    "    'HT_Complex_F1', 'HT_Complex_prec', 'HT_Complex_rec'\n",
    "])\n",
    "for (i, trackname) in enumerate(bbs_files):\n",
    "    track, onsets_DR, onsets_HT = load_track_with_onsets(trackname)\n",
    "    onsets_pred_hfc = detect_onsets(track, method='hfc')\n",
    "    onsets_pred_cp = detect_onsets(track, method='complex')\n",
    "    \n",
    "    f1_dr_hfc, prec_dr_hfc, rec_dr_hfc = \\\n",
    "        onsets_F1_score(onsets_pred_hfc['time'].values, onsets_DR['time'].values, prec_rec=True)\n",
    "    f1_dr_cp, prec_dr_cp, rec_dr_cp = \\\n",
    "        onsets_F1_score(onsets_pred_cp['time'].values, onsets_DR['time'].values, prec_rec=True)\n",
    "    f1_ht_hfc, prec_ht_hfc, rec_hr_hfc = \\\n",
    "        onsets_F1_score(onsets_pred_hfc['time'].values, onsets_HT['time'].values, prec_rec=True)\n",
    "    f1_ht_cp, prec_ht_cp, rec_ht_cp = \\\n",
    "        onsets_F1_score(onsets_pred_cp['time'].values, onsets_HT['time'].values, prec_rec=True)\n",
    "    scores.loc[i] = [\n",
    "        trackname,\n",
    "        f1_dr_hfc, prec_dr_hfc, rec_dr_hfc,\n",
    "        f1_dr_cp, prec_dr_cp, rec_dr_cp,\n",
    "        f1_ht_hfc, prec_ht_hfc, rec_hr_hfc,\n",
    "        f1_ht_cp, prec_ht_cp, rec_ht_cp\n",
    "    ]"
   ]
  },
  {
   "cell_type": "code",
   "execution_count": null,
   "metadata": {},
   "outputs": [],
   "source": [
    "scores"
   ]
  },
  {
   "cell_type": "code",
   "execution_count": null,
   "metadata": {},
   "outputs": [],
   "source": [
    "scores[['track', 'DR_HFC_F1', 'DR_Complex_F1', 'HT_HFC_F1', 'HT_Complex_F1']].to_clipboard()"
   ]
  },
  {
   "cell_type": "code",
   "execution_count": null,
   "metadata": {},
   "outputs": [],
   "source": []
  },
  {
   "cell_type": "code",
   "execution_count": null,
   "metadata": {},
   "outputs": [],
   "source": [
    "scores.mean()"
   ]
  },
  {
   "cell_type": "code",
   "execution_count": null,
   "metadata": {},
   "outputs": [],
   "source": [
    "scores.std()"
   ]
  },
  {
   "cell_type": "code",
   "execution_count": null,
   "metadata": {},
   "outputs": [],
   "source": [
    "labels = ['HFC/DR', 'Complex/DR', 'HFC/HT', 'Complex/HT']\n",
    "mean_scores = scores.mean()\n",
    "precisions = mean_scores[['DR_HFC_prec', 'DR_Complex_prec', 'HT_HFC_prec', 'HT_Complex_prec']]\n",
    "recalls = mean_scores[['DR_HFC_rec', 'DR_Complex_rec', 'HT_HFC_rec', 'HT_Complex_rec']]\n",
    "\n",
    "x = np.arange(len(labels))\n",
    "width = 0.35\n",
    "\n",
    "fig, ax = plt.subplots(figsize=(10, 5))\n",
    "rects1 = ax.bar(x - width/2, precisions, width, label='Precision')\n",
    "rects2 = ax.bar(x + width/2, recalls, width, label='Recall')\n",
    "\n",
    "ax.set_ylabel('Scores')\n",
    "ax.set_title('Precision and recall on beatboxset1')\n",
    "ax.set_xticks(x)\n",
    "ax.set_xticklabels(labels)\n",
    "ax.legend()\n",
    "\n",
    "fig.tight_layout()\n",
    "plt.show()"
   ]
  },
  {
   "cell_type": "code",
   "execution_count": null,
   "metadata": {},
   "outputs": [],
   "source": [
    "avp_files_all = [PurePath(path) for path in glob.glob('../data/AVP_Dataset/*/*/*.wav')]\n",
    "len(avp_files_all)"
   ]
  },
  {
   "cell_type": "code",
   "execution_count": null,
   "metadata": {},
   "outputs": [],
   "source": [
    "avp_scores = pd.DataFrame(columns=[\n",
    "    'track',\n",
    "    'HFC_F1', 'HFC_prec', 'HFC_rec',\n",
    "    'Complex_F1', 'Complex_prec', 'Complex_rec'\n",
    "])\n",
    "\n",
    "for i, filepath in enumerate(avp_files_all):\n",
    "    track = Track(str(filepath))\n",
    "    annotation = read_annotation(str(filepath.with_suffix('.csv')))\n",
    "    onsets_pred_hfc = detect_onsets(track, method='hfc')\n",
    "    onsets_pred_cp = detect_onsets(track, method='complex')\n",
    "    \n",
    "    f1_hfc, prec_hfc, rec_hfc = \\\n",
    "        onsets_F1_score(onsets_pred_hfc['time'].values, annotation['time'].values, prec_rec=True)\n",
    "    \n",
    "    f1_cp, prec_cp, rec_cp = \\\n",
    "        onsets_F1_score(onsets_pred_cp['time'].values, annotation['time'].values, prec_rec=True)\n",
    "    \n",
    "    avp_scores.loc[i] = [\n",
    "        filepath.stem,\n",
    "        f1_hfc, prec_hfc, rec_hfc,\n",
    "        f1_cp, prec_cp, rec_cp\n",
    "    ]"
   ]
  },
  {
   "cell_type": "code",
   "execution_count": null,
   "metadata": {},
   "outputs": [],
   "source": []
  }
 ],
 "metadata": {
  "kernelspec": {
   "display_name": "Python 3",
   "language": "python",
   "name": "python3"
  },
  "language_info": {
   "codemirror_mode": {
    "name": "ipython",
    "version": 3
   },
   "file_extension": ".py",
   "mimetype": "text/x-python",
   "name": "python",
   "nbconvert_exporter": "python",
   "pygments_lexer": "ipython3"
  }
 },
 "nbformat": 4,
 "nbformat_minor": 4
}
